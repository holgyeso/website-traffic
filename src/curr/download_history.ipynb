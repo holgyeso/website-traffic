{
 "cells": [
  {
   "cell_type": "markdown",
   "metadata": {},
   "source": [
    "# <h1 style=\"font-size:24px\">Website traffic of Romanian media and advertising companies</h1>\n",
    "--- "
   ]
  },
  {
   "cell_type": "markdown",
   "metadata": {},
   "source": [
    "## <h2 style=\"font-size:20px\">**ABOUT THE DATA**</h2>\n",
    "[BRAT](https://www.brat.ro/ce-este-brat) is a non-profit organization of the media and advertising industry. Their aim is to support this industry by establishing common methods and standards on how to measure the performance indicators of media products. One of these KPIs is site traffic, that is measured in the [SATI](https://www.brat.ro/sati) project. The findings are published each day on SATI's webpage, in the [Traffic results](https://www.brat.ro/sati/rezultate/type/site/page/1/c/all) menu. They have the possibility to export the whole dataset, not only the filtered table that can be seen on their webpage. With Inspect the URL for the generated Excel file can be found out, and it can be scaped with Python's requests library.\n",
    "\n",
    "It is important to keep in mind, that site traffic data is available only for the day before the current date. Moreover, for those who are not a BRAT member, data can be accessed only for the last month.\n",
    "\n",
    "### <h2 style=\"font-size:17px\">**Data structure**</h2>\n",
    "Downloaded data contains the following columns: \n",
    "* Categorie: the site's media category\n",
    "* Site\n",
    "* Sitecode\n",
    "* Tip trafic: traffic type: desktop/laptop, mobile, mobile applications\n",
    "* Editor site\n",
    "* Contractor\n",
    "* Regie de publicitate\n",
    "* Afisari: Page Impression - a visitor displays a page on the site\n",
    "* Vizite: Visit - a series of one or more impressions as a result of a visitor's request. A visit ends when the period between 2 consecutive impressions is longer than 30 minutes\n",
    "* Clienti Unici: Unique user - a unique combination of IP address and other identifiers\n",
    "\n",
    "From these only the category, traffic type, Contractor, page impression, visit and unique users will be used. Furthermore, the data is available for wordwide traffic and traffic from only Romania too."
   ]
  },
  {
   "cell_type": "markdown",
   "metadata": {},
   "source": [
    "## <h2 style=\"font-size:19px\">**ABOUT THE NOTEBOOK**</h2>\n",
    "This notebook is the main part of the project, where all things are summarized and put together from downloading the data until the part where it is put into InfluxDB. \n",
    "\n",
    "The data is scraped down into Excel format, so this can be imported directly into pandas - with the help of that the data processing part will be done. Fortunately, the data comes in a quite decent format, only the unneeded columns and empty rows should be deleted. Since it contains a total traffic row for all sites too, this row should have been eliminated too, as this is the sum of the trafic types. Lastly, because of InfluxDB's time series database nature, the dataframe's index should be of datetime type."
   ]
  },
  {
   "cell_type": "code",
   "execution_count": 9,
   "metadata": {},
   "outputs": [],
   "source": [
    "import data_processing_utils as utils #data download and normalization\n",
    "import db_utils #utils to get db connection and write to db \n",
    "from datetime import datetime, timedelta\n",
    "\n",
    "client = db_utils.get_data_frame_client('influxdb', 'site_traffic')"
   ]
  },
  {
   "cell_type": "code",
   "execution_count": 6,
   "metadata": {},
   "outputs": [],
   "source": [
    "maxd = datetime.strptime(\"2022-04-05\", \"%Y-%m-%d\")\n",
    "d = yesterday_dt = datetime.today() - timedelta(days=1)"
   ]
  },
  {
   "cell_type": "code",
   "execution_count": 17,
   "metadata": {},
   "outputs": [
    {
     "data": {
      "text/plain": [
       "datetime.datetime(2022, 5, 3, 13, 3, 54, 273559)"
      ]
     },
     "execution_count": 17,
     "metadata": {},
     "output_type": "execute_result"
    }
   ],
   "source": [
    "d"
   ]
  },
  {
   "cell_type": "code",
   "execution_count": 16,
   "metadata": {},
   "outputs": [
    {
     "name": "stdout",
     "output_type": "stream",
     "text": [
      "2022-5-4\n",
      "./data/2022-5-4.xls\n",
      "WARNING *** OLE2 inconsistency: SSCS size is 0 but SSAT size is non-zero\n",
      "read file\n",
      "normalized file\n",
      "./data/2022-5-4-ro.xls\n",
      "WARNING *** OLE2 inconsistency: SSCS size is 0 but SSAT size is non-zero\n",
      "read file\n",
      "normalized file\n"
     ]
    }
   ],
   "source": [
    "# \n",
    "\n",
    "while d > maxd:\n",
    "    d_str = d.strftime(\"%Y-%-m-%-d\")\n",
    "    print(d_str)\n",
    "    #1 download and write WORLDWIDE TRAFFIC into db\n",
    "    df = utils.get_normalized_resource(resource_url=\"https://www.brat.ro/sati/export-rezultate/export/xls/site/c/all/period_type/day/period_filter/\"+ d_str +\"/category/all/editor/all/order_by/name/order/desc/\", file_path= \"./data/\" + d_str + \".xls\", from_date=d, region_type='all')\n",
    "    db_utils.write_data_to_db(client, df, 'traffic')\n",
    "\n",
    "    #2  download and write ROMANIAN TRAFFIC into db\n",
    "    df_ro = utils.get_normalized_resource(resource_url=\"https://www.brat.ro/sati/export-rezultate/export/xls/type/site-ro/c/custom/period_type/day/period_filter/\"+ d_str +\"/category/all/editor/all/order_by/name/order/asc/\", file_path= \"./data/\" + d_str + \"-ro.xls\", from_date=d, region_type='ro')\n",
    "    db_utils.write_data_to_db(client, df_ro, 'traffic')\n",
    "\n",
    "    d = d - timedelta(days=1)\n",
    "    \n",
    "    break\n"
   ]
  },
  {
   "cell_type": "code",
   "execution_count": 37,
   "metadata": {},
   "outputs": [],
   "source": [
    "d = 1\n",
    "\n",
    "\n",
    "yesterday_dt = datetime.today() - timedelta(days=1)"
   ]
  },
  {
   "cell_type": "code",
   "execution_count": 5,
   "metadata": {},
   "outputs": [
    {
     "data": {
      "text/plain": [
       "'2022-05-04'"
      ]
     },
     "execution_count": 5,
     "metadata": {},
     "output_type": "execute_result"
    }
   ],
   "source": [
    "d = datetime.today() - timedelta(days=1)\n",
    "d_str = d.strftime(\"%Y-%#m-%#d\")\n",
    "d_str"
   ]
  },
  {
   "cell_type": "code",
   "execution_count": 30,
   "metadata": {},
   "outputs": [
    {
     "data": {
      "text/plain": [
       "'2022-4-29'"
      ]
     },
     "execution_count": 30,
     "metadata": {},
     "output_type": "execute_result"
    }
   ],
   "source": [
    "import data_processing_utils as utils\n",
    "from datetime import datetime, timedelta\n",
    "\n",
    "yesterday_dt = datetime.today() - timedelta(days=6)\n",
    "yesterday_dt_str = yesterday_dt.strftime(\"%Y-%#m-%#d\")\n",
    "yesterday_dt_str"
   ]
  },
  {
   "cell_type": "code",
   "execution_count": 33,
   "metadata": {},
   "outputs": [
    {
     "name": "stdout",
     "output_type": "stream",
     "text": [
      "./data/2022-4-29.xls\n",
      "WARNING *** OLE2 inconsistency: SSCS size is 0 but SSAT size is non-zero\n",
      "read file\n",
      "normalized file\n"
     ]
    }
   ],
   "source": [
    "#1 get the worldwide traffic\n",
    "df = utils.get_normalized_resource(resource_url=\"https://www.brat.ro/sati/export-rezultate/export/xls/site/c/all/period_type/day/period_filter/\"+ yesterday_dt_str +\"/category/all/editor/all/order_by/name/order/desc/\", file_path= \"./data/\" + yesterday_dt_str + \".xls\", from_date=yesterday_dt, region_type='all')\n",
    "\n",
    "#write to file\n",
    "\n",
    "\n",
    "#2 get the RO traffic\n",
    "df_ro = utils.get_normalized_resource(resource_url=\"https://www.brat.ro/sati/export-rezultate/export/xls/type/site-ro/c/custom/period_type/day/period_filter/\"+ yesterday_dt_str +\"/category/all/editor/all/order_by/name/order/asc/\", file_path= \"./data/\" + yesterday_dt_str + \"-ro.xls\", from_date=yesterday_dt, region_type='ro')\n",
    "\n",
    "#write to file\n"
   ]
  },
  {
   "cell_type": "code",
   "execution_count": 32,
   "metadata": {},
   "outputs": [
    {
     "data": {
      "text/html": [
       "<div>\n",
       "<style scoped>\n",
       "    .dataframe tbody tr th:only-of-type {\n",
       "        vertical-align: middle;\n",
       "    }\n",
       "\n",
       "    .dataframe tbody tr th {\n",
       "        vertical-align: top;\n",
       "    }\n",
       "\n",
       "    .dataframe thead th {\n",
       "        text-align: right;\n",
       "    }\n",
       "</style>\n",
       "<table border=\"1\" class=\"dataframe\">\n",
       "  <thead>\n",
       "    <tr style=\"text-align: right;\">\n",
       "      <th></th>\n",
       "      <th>category</th>\n",
       "      <th>site</th>\n",
       "      <th>traffic_type</th>\n",
       "      <th>SATI_contractor</th>\n",
       "      <th>value_type</th>\n",
       "      <th>field</th>\n",
       "      <th>traffic_region</th>\n",
       "    </tr>\n",
       "    <tr>\n",
       "      <th>timestamp</th>\n",
       "      <th></th>\n",
       "      <th></th>\n",
       "      <th></th>\n",
       "      <th></th>\n",
       "      <th></th>\n",
       "      <th></th>\n",
       "      <th></th>\n",
       "    </tr>\n",
       "  </thead>\n",
       "  <tbody>\n",
       "    <tr>\n",
       "      <th>2022-04-29 08:54:33.282851</th>\n",
       "      <td>Auto &amp; moto</td>\n",
       "      <td>www.4tuning.ro</td>\n",
       "      <td>trafic desktop / laptop</td>\n",
       "      <td>Thinkdigital Internet &amp; Advertising SA</td>\n",
       "      <td>page_impression</td>\n",
       "      <td>15541.0</td>\n",
       "      <td>all</td>\n",
       "    </tr>\n",
       "    <tr>\n",
       "      <th>2022-04-29 08:54:33.282851</th>\n",
       "      <td>Auto &amp; moto</td>\n",
       "      <td>www.4tuning.ro</td>\n",
       "      <td>trafic desktop / laptop</td>\n",
       "      <td>Thinkdigital Internet &amp; Advertising SA</td>\n",
       "      <td>visit</td>\n",
       "      <td>4797.0</td>\n",
       "      <td>all</td>\n",
       "    </tr>\n",
       "    <tr>\n",
       "      <th>2022-04-29 08:54:33.282851</th>\n",
       "      <td>Auto &amp; moto</td>\n",
       "      <td>www.4tuning.ro</td>\n",
       "      <td>trafic desktop / laptop</td>\n",
       "      <td>Thinkdigital Internet &amp; Advertising SA</td>\n",
       "      <td>unique_client</td>\n",
       "      <td>4289.0</td>\n",
       "      <td>all</td>\n",
       "    </tr>\n",
       "    <tr>\n",
       "      <th>2022-04-29 08:54:33.282851</th>\n",
       "      <td>Auto &amp; moto</td>\n",
       "      <td>www.4tuning.ro</td>\n",
       "      <td>trafic mobile (tableta / smartphone)</td>\n",
       "      <td>Thinkdigital Internet &amp; Advertising SA</td>\n",
       "      <td>page_impression</td>\n",
       "      <td>65233.0</td>\n",
       "      <td>all</td>\n",
       "    </tr>\n",
       "    <tr>\n",
       "      <th>2022-04-29 08:54:33.282851</th>\n",
       "      <td>Auto &amp; moto</td>\n",
       "      <td>www.4tuning.ro</td>\n",
       "      <td>trafic mobile (tableta / smartphone)</td>\n",
       "      <td>Thinkdigital Internet &amp; Advertising SA</td>\n",
       "      <td>visit</td>\n",
       "      <td>39520.0</td>\n",
       "      <td>all</td>\n",
       "    </tr>\n",
       "    <tr>\n",
       "      <th>...</th>\n",
       "      <td>...</td>\n",
       "      <td>...</td>\n",
       "      <td>...</td>\n",
       "      <td>...</td>\n",
       "      <td>...</td>\n",
       "      <td>...</td>\n",
       "      <td>...</td>\n",
       "    </tr>\n",
       "    <tr>\n",
       "      <th>2022-04-29 08:54:33.282851</th>\n",
       "      <td>Muzica &amp; Audio</td>\n",
       "      <td>www.zutv.ro</td>\n",
       "      <td>trafic mobile (tableta / smartphone)</td>\n",
       "      <td>Antena TV Group SA</td>\n",
       "      <td>visit</td>\n",
       "      <td>12220.0</td>\n",
       "      <td>all</td>\n",
       "    </tr>\n",
       "    <tr>\n",
       "      <th>2022-04-29 08:54:33.282851</th>\n",
       "      <td>Muzica &amp; Audio</td>\n",
       "      <td>www.zutv.ro</td>\n",
       "      <td>trafic mobile (tableta / smartphone)</td>\n",
       "      <td>Antena TV Group SA</td>\n",
       "      <td>unique_client</td>\n",
       "      <td>10744.0</td>\n",
       "      <td>all</td>\n",
       "    </tr>\n",
       "    <tr>\n",
       "      <th>2022-04-29 08:54:33.282851</th>\n",
       "      <td>Muzica &amp; Audio</td>\n",
       "      <td>www.zutv.ro</td>\n",
       "      <td>aplicatii mobile</td>\n",
       "      <td>Antena TV Group SA</td>\n",
       "      <td>page_impression</td>\n",
       "      <td>0.0</td>\n",
       "      <td>all</td>\n",
       "    </tr>\n",
       "    <tr>\n",
       "      <th>2022-04-29 08:54:33.282851</th>\n",
       "      <td>Muzica &amp; Audio</td>\n",
       "      <td>www.zutv.ro</td>\n",
       "      <td>aplicatii mobile</td>\n",
       "      <td>Antena TV Group SA</td>\n",
       "      <td>visit</td>\n",
       "      <td>0.0</td>\n",
       "      <td>all</td>\n",
       "    </tr>\n",
       "    <tr>\n",
       "      <th>2022-04-29 08:54:33.282851</th>\n",
       "      <td>Muzica &amp; Audio</td>\n",
       "      <td>www.zutv.ro</td>\n",
       "      <td>aplicatii mobile</td>\n",
       "      <td>Antena TV Group SA</td>\n",
       "      <td>unique_client</td>\n",
       "      <td>0.0</td>\n",
       "      <td>all</td>\n",
       "    </tr>\n",
       "  </tbody>\n",
       "</table>\n",
       "<p>1782 rows × 7 columns</p>\n",
       "</div>"
      ],
      "text/plain": [
       "                                  category            site  \\\n",
       "timestamp                                                    \n",
       "2022-04-29 08:54:33.282851     Auto & moto  www.4tuning.ro   \n",
       "2022-04-29 08:54:33.282851     Auto & moto  www.4tuning.ro   \n",
       "2022-04-29 08:54:33.282851     Auto & moto  www.4tuning.ro   \n",
       "2022-04-29 08:54:33.282851     Auto & moto  www.4tuning.ro   \n",
       "2022-04-29 08:54:33.282851     Auto & moto  www.4tuning.ro   \n",
       "...                                    ...             ...   \n",
       "2022-04-29 08:54:33.282851  Muzica & Audio     www.zutv.ro   \n",
       "2022-04-29 08:54:33.282851  Muzica & Audio     www.zutv.ro   \n",
       "2022-04-29 08:54:33.282851  Muzica & Audio     www.zutv.ro   \n",
       "2022-04-29 08:54:33.282851  Muzica & Audio     www.zutv.ro   \n",
       "2022-04-29 08:54:33.282851  Muzica & Audio     www.zutv.ro   \n",
       "\n",
       "                                                    traffic_type  \\\n",
       "timestamp                                                          \n",
       "2022-04-29 08:54:33.282851               trafic desktop / laptop   \n",
       "2022-04-29 08:54:33.282851               trafic desktop / laptop   \n",
       "2022-04-29 08:54:33.282851               trafic desktop / laptop   \n",
       "2022-04-29 08:54:33.282851  trafic mobile (tableta / smartphone)   \n",
       "2022-04-29 08:54:33.282851  trafic mobile (tableta / smartphone)   \n",
       "...                                                          ...   \n",
       "2022-04-29 08:54:33.282851  trafic mobile (tableta / smartphone)   \n",
       "2022-04-29 08:54:33.282851  trafic mobile (tableta / smartphone)   \n",
       "2022-04-29 08:54:33.282851                      aplicatii mobile   \n",
       "2022-04-29 08:54:33.282851                      aplicatii mobile   \n",
       "2022-04-29 08:54:33.282851                      aplicatii mobile   \n",
       "\n",
       "                                                   SATI_contractor  \\\n",
       "timestamp                                                            \n",
       "2022-04-29 08:54:33.282851  Thinkdigital Internet & Advertising SA   \n",
       "2022-04-29 08:54:33.282851  Thinkdigital Internet & Advertising SA   \n",
       "2022-04-29 08:54:33.282851  Thinkdigital Internet & Advertising SA   \n",
       "2022-04-29 08:54:33.282851  Thinkdigital Internet & Advertising SA   \n",
       "2022-04-29 08:54:33.282851  Thinkdigital Internet & Advertising SA   \n",
       "...                                                            ...   \n",
       "2022-04-29 08:54:33.282851                      Antena TV Group SA   \n",
       "2022-04-29 08:54:33.282851                      Antena TV Group SA   \n",
       "2022-04-29 08:54:33.282851                      Antena TV Group SA   \n",
       "2022-04-29 08:54:33.282851                      Antena TV Group SA   \n",
       "2022-04-29 08:54:33.282851                      Antena TV Group SA   \n",
       "\n",
       "                                 value_type    field traffic_region  \n",
       "timestamp                                                            \n",
       "2022-04-29 08:54:33.282851  page_impression  15541.0            all  \n",
       "2022-04-29 08:54:33.282851            visit   4797.0            all  \n",
       "2022-04-29 08:54:33.282851    unique_client   4289.0            all  \n",
       "2022-04-29 08:54:33.282851  page_impression  65233.0            all  \n",
       "2022-04-29 08:54:33.282851            visit  39520.0            all  \n",
       "...                                     ...      ...            ...  \n",
       "2022-04-29 08:54:33.282851            visit  12220.0            all  \n",
       "2022-04-29 08:54:33.282851    unique_client  10744.0            all  \n",
       "2022-04-29 08:54:33.282851  page_impression      0.0            all  \n",
       "2022-04-29 08:54:33.282851            visit      0.0            all  \n",
       "2022-04-29 08:54:33.282851    unique_client      0.0            all  \n",
       "\n",
       "[1782 rows x 7 columns]"
      ]
     },
     "execution_count": 32,
     "metadata": {},
     "output_type": "execute_result"
    }
   ],
   "source": [
    "df"
   ]
  },
  {
   "cell_type": "markdown",
   "metadata": {},
   "source": [
    "OTHER"
   ]
  },
  {
   "cell_type": "code",
   "execution_count": 29,
   "metadata": {},
   "outputs": [
    {
     "data": {
      "text/plain": [
       "<module 'data_processing_utils' from 'c:\\\\EGYETEM\\\\3. ev\\\\2. felev\\\\Integralt rendszerek ERP\\\\egyeni\\\\src\\\\data_processing_utils.py'>"
      ]
     },
     "execution_count": 29,
     "metadata": {},
     "output_type": "execute_result"
    }
   ],
   "source": [
    "import imp\n",
    "imp.reload(utils)"
   ]
  },
  {
   "cell_type": "code",
   "execution_count": 28,
   "metadata": {},
   "outputs": [
    {
     "data": {
      "text/html": [
       "<div>\n",
       "<style scoped>\n",
       "    .dataframe tbody tr th:only-of-type {\n",
       "        vertical-align: middle;\n",
       "    }\n",
       "\n",
       "    .dataframe tbody tr th {\n",
       "        vertical-align: top;\n",
       "    }\n",
       "\n",
       "    .dataframe thead th {\n",
       "        text-align: right;\n",
       "    }\n",
       "</style>\n",
       "<table border=\"1\" class=\"dataframe\">\n",
       "  <thead>\n",
       "    <tr style=\"text-align: right;\">\n",
       "      <th></th>\n",
       "      <th>category</th>\n",
       "      <th>site</th>\n",
       "      <th>traffic_type</th>\n",
       "      <th>SATI_contractor</th>\n",
       "      <th>value_type</th>\n",
       "      <th>field</th>\n",
       "      <th>traffic_region</th>\n",
       "    </tr>\n",
       "    <tr>\n",
       "      <th>timestamp</th>\n",
       "      <th></th>\n",
       "      <th></th>\n",
       "      <th></th>\n",
       "      <th></th>\n",
       "      <th></th>\n",
       "      <th></th>\n",
       "      <th></th>\n",
       "    </tr>\n",
       "  </thead>\n",
       "  <tbody>\n",
       "    <tr>\n",
       "      <th>2022-04-30 08:51:57.890095</th>\n",
       "      <td>Auto &amp; moto</td>\n",
       "      <td>www.4tuning.ro</td>\n",
       "      <td>trafic desktop / laptop</td>\n",
       "      <td>Thinkdigital Internet &amp; Advertising SA</td>\n",
       "      <td>page_impression</td>\n",
       "      <td>15541.0</td>\n",
       "      <td>all</td>\n",
       "    </tr>\n",
       "    <tr>\n",
       "      <th>2022-04-30 08:51:57.890095</th>\n",
       "      <td>Auto &amp; moto</td>\n",
       "      <td>www.4tuning.ro</td>\n",
       "      <td>trafic desktop / laptop</td>\n",
       "      <td>Thinkdigital Internet &amp; Advertising SA</td>\n",
       "      <td>visit</td>\n",
       "      <td>4797.0</td>\n",
       "      <td>all</td>\n",
       "    </tr>\n",
       "    <tr>\n",
       "      <th>2022-04-30 08:51:57.890095</th>\n",
       "      <td>Auto &amp; moto</td>\n",
       "      <td>www.4tuning.ro</td>\n",
       "      <td>trafic desktop / laptop</td>\n",
       "      <td>Thinkdigital Internet &amp; Advertising SA</td>\n",
       "      <td>unique_client</td>\n",
       "      <td>4289.0</td>\n",
       "      <td>all</td>\n",
       "    </tr>\n",
       "    <tr>\n",
       "      <th>2022-04-30 08:51:57.890095</th>\n",
       "      <td>Auto &amp; moto</td>\n",
       "      <td>www.4tuning.ro</td>\n",
       "      <td>trafic mobile (tableta / smartphone)</td>\n",
       "      <td>Thinkdigital Internet &amp; Advertising SA</td>\n",
       "      <td>page_impression</td>\n",
       "      <td>65233.0</td>\n",
       "      <td>all</td>\n",
       "    </tr>\n",
       "    <tr>\n",
       "      <th>2022-04-30 08:51:57.890095</th>\n",
       "      <td>Auto &amp; moto</td>\n",
       "      <td>www.4tuning.ro</td>\n",
       "      <td>trafic mobile (tableta / smartphone)</td>\n",
       "      <td>Thinkdigital Internet &amp; Advertising SA</td>\n",
       "      <td>visit</td>\n",
       "      <td>39520.0</td>\n",
       "      <td>all</td>\n",
       "    </tr>\n",
       "    <tr>\n",
       "      <th>...</th>\n",
       "      <td>...</td>\n",
       "      <td>...</td>\n",
       "      <td>...</td>\n",
       "      <td>...</td>\n",
       "      <td>...</td>\n",
       "      <td>...</td>\n",
       "      <td>...</td>\n",
       "    </tr>\n",
       "    <tr>\n",
       "      <th>2022-04-30 08:51:57.890095</th>\n",
       "      <td>Muzica &amp; Audio</td>\n",
       "      <td>www.zutv.ro</td>\n",
       "      <td>trafic mobile (tableta / smartphone)</td>\n",
       "      <td>Antena TV Group SA</td>\n",
       "      <td>visit</td>\n",
       "      <td>12220.0</td>\n",
       "      <td>all</td>\n",
       "    </tr>\n",
       "    <tr>\n",
       "      <th>2022-04-30 08:51:57.890095</th>\n",
       "      <td>Muzica &amp; Audio</td>\n",
       "      <td>www.zutv.ro</td>\n",
       "      <td>trafic mobile (tableta / smartphone)</td>\n",
       "      <td>Antena TV Group SA</td>\n",
       "      <td>unique_client</td>\n",
       "      <td>10744.0</td>\n",
       "      <td>all</td>\n",
       "    </tr>\n",
       "    <tr>\n",
       "      <th>2022-04-30 08:51:57.890095</th>\n",
       "      <td>Muzica &amp; Audio</td>\n",
       "      <td>www.zutv.ro</td>\n",
       "      <td>aplicatii mobile</td>\n",
       "      <td>Antena TV Group SA</td>\n",
       "      <td>page_impression</td>\n",
       "      <td>0.0</td>\n",
       "      <td>all</td>\n",
       "    </tr>\n",
       "    <tr>\n",
       "      <th>2022-04-30 08:51:57.890095</th>\n",
       "      <td>Muzica &amp; Audio</td>\n",
       "      <td>www.zutv.ro</td>\n",
       "      <td>aplicatii mobile</td>\n",
       "      <td>Antena TV Group SA</td>\n",
       "      <td>visit</td>\n",
       "      <td>0.0</td>\n",
       "      <td>all</td>\n",
       "    </tr>\n",
       "    <tr>\n",
       "      <th>2022-04-30 08:51:57.890095</th>\n",
       "      <td>Muzica &amp; Audio</td>\n",
       "      <td>www.zutv.ro</td>\n",
       "      <td>aplicatii mobile</td>\n",
       "      <td>Antena TV Group SA</td>\n",
       "      <td>unique_client</td>\n",
       "      <td>0.0</td>\n",
       "      <td>all</td>\n",
       "    </tr>\n",
       "  </tbody>\n",
       "</table>\n",
       "<p>1782 rows × 7 columns</p>\n",
       "</div>"
      ],
      "text/plain": [
       "                                  category            site  \\\n",
       "timestamp                                                    \n",
       "2022-04-30 08:51:57.890095     Auto & moto  www.4tuning.ro   \n",
       "2022-04-30 08:51:57.890095     Auto & moto  www.4tuning.ro   \n",
       "2022-04-30 08:51:57.890095     Auto & moto  www.4tuning.ro   \n",
       "2022-04-30 08:51:57.890095     Auto & moto  www.4tuning.ro   \n",
       "2022-04-30 08:51:57.890095     Auto & moto  www.4tuning.ro   \n",
       "...                                    ...             ...   \n",
       "2022-04-30 08:51:57.890095  Muzica & Audio     www.zutv.ro   \n",
       "2022-04-30 08:51:57.890095  Muzica & Audio     www.zutv.ro   \n",
       "2022-04-30 08:51:57.890095  Muzica & Audio     www.zutv.ro   \n",
       "2022-04-30 08:51:57.890095  Muzica & Audio     www.zutv.ro   \n",
       "2022-04-30 08:51:57.890095  Muzica & Audio     www.zutv.ro   \n",
       "\n",
       "                                                    traffic_type  \\\n",
       "timestamp                                                          \n",
       "2022-04-30 08:51:57.890095               trafic desktop / laptop   \n",
       "2022-04-30 08:51:57.890095               trafic desktop / laptop   \n",
       "2022-04-30 08:51:57.890095               trafic desktop / laptop   \n",
       "2022-04-30 08:51:57.890095  trafic mobile (tableta / smartphone)   \n",
       "2022-04-30 08:51:57.890095  trafic mobile (tableta / smartphone)   \n",
       "...                                                          ...   \n",
       "2022-04-30 08:51:57.890095  trafic mobile (tableta / smartphone)   \n",
       "2022-04-30 08:51:57.890095  trafic mobile (tableta / smartphone)   \n",
       "2022-04-30 08:51:57.890095                      aplicatii mobile   \n",
       "2022-04-30 08:51:57.890095                      aplicatii mobile   \n",
       "2022-04-30 08:51:57.890095                      aplicatii mobile   \n",
       "\n",
       "                                                   SATI_contractor  \\\n",
       "timestamp                                                            \n",
       "2022-04-30 08:51:57.890095  Thinkdigital Internet & Advertising SA   \n",
       "2022-04-30 08:51:57.890095  Thinkdigital Internet & Advertising SA   \n",
       "2022-04-30 08:51:57.890095  Thinkdigital Internet & Advertising SA   \n",
       "2022-04-30 08:51:57.890095  Thinkdigital Internet & Advertising SA   \n",
       "2022-04-30 08:51:57.890095  Thinkdigital Internet & Advertising SA   \n",
       "...                                                            ...   \n",
       "2022-04-30 08:51:57.890095                      Antena TV Group SA   \n",
       "2022-04-30 08:51:57.890095                      Antena TV Group SA   \n",
       "2022-04-30 08:51:57.890095                      Antena TV Group SA   \n",
       "2022-04-30 08:51:57.890095                      Antena TV Group SA   \n",
       "2022-04-30 08:51:57.890095                      Antena TV Group SA   \n",
       "\n",
       "                                 value_type    field traffic_region  \n",
       "timestamp                                                            \n",
       "2022-04-30 08:51:57.890095  page_impression  15541.0            all  \n",
       "2022-04-30 08:51:57.890095            visit   4797.0            all  \n",
       "2022-04-30 08:51:57.890095    unique_client   4289.0            all  \n",
       "2022-04-30 08:51:57.890095  page_impression  65233.0            all  \n",
       "2022-04-30 08:51:57.890095            visit  39520.0            all  \n",
       "...                                     ...      ...            ...  \n",
       "2022-04-30 08:51:57.890095            visit  12220.0            all  \n",
       "2022-04-30 08:51:57.890095    unique_client  10744.0            all  \n",
       "2022-04-30 08:51:57.890095  page_impression      0.0            all  \n",
       "2022-04-30 08:51:57.890095            visit      0.0            all  \n",
       "2022-04-30 08:51:57.890095    unique_client      0.0            all  \n",
       "\n",
       "[1782 rows x 7 columns]"
      ]
     },
     "execution_count": 28,
     "metadata": {},
     "output_type": "execute_result"
    }
   ],
   "source": [
    "utils.normalize_df(df, 'all', yesterday_dt)"
   ]
  },
  {
   "cell_type": "code",
   "execution_count": 9,
   "metadata": {},
   "outputs": [],
   "source": [
    "URL = \"https://www.brat.ro/sati/export-rezultate/export/xls/site/c/all/period_type/day/period_filter/\"+ yesterday_dt_str +\"/category/all/editor/all/order_by/name/order/desc/\"\n",
    "file_path = \"./data/\" + yesterday_dt_str + '.xls' #data should be downloaded in data folder with the name of the current date\n",
    "\n",
    "# utils.download_resource(URL, file_path)"
   ]
  },
  {
   "cell_type": "code",
   "execution_count": 6,
   "metadata": {},
   "outputs": [
    {
     "data": {
      "text/plain": [
       "'./data/2022-5-4.xls'"
      ]
     },
     "execution_count": 6,
     "metadata": {},
     "output_type": "execute_result"
    }
   ],
   "source": [
    "os.fspath(file_path)"
   ]
  },
  {
   "cell_type": "code",
   "execution_count": 14,
   "metadata": {},
   "outputs": [
    {
     "name": "stdout",
     "output_type": "stream",
     "text": [
      "WARNING *** OLE2 inconsistency: SSCS size is 0 but SSAT size is non-zero\n"
     ]
    },
    {
     "data": {
      "text/html": [
       "<div>\n",
       "<style scoped>\n",
       "    .dataframe tbody tr th:only-of-type {\n",
       "        vertical-align: middle;\n",
       "    }\n",
       "\n",
       "    .dataframe tbody tr th {\n",
       "        vertical-align: top;\n",
       "    }\n",
       "\n",
       "    .dataframe thead th {\n",
       "        text-align: right;\n",
       "    }\n",
       "</style>\n",
       "<table border=\"1\" class=\"dataframe\">\n",
       "  <thead>\n",
       "    <tr style=\"text-align: right;\">\n",
       "      <th></th>\n",
       "      <th>Nr.</th>\n",
       "      <th>Categorie</th>\n",
       "      <th>Site</th>\n",
       "      <th>Sitecode</th>\n",
       "      <th>Tip trafic</th>\n",
       "      <th>Editor site</th>\n",
       "      <th>Contractor SATI</th>\n",
       "      <th>Regie de publicitate</th>\n",
       "      <th>Afisari</th>\n",
       "      <th>Vizite</th>\n",
       "      <th>Clienti Unici</th>\n",
       "    </tr>\n",
       "  </thead>\n",
       "  <tbody>\n",
       "    <tr>\n",
       "      <th>0</th>\n",
       "      <td>NaN</td>\n",
       "      <td>NaN</td>\n",
       "      <td>NaN</td>\n",
       "      <td>NaN</td>\n",
       "      <td>NaN</td>\n",
       "      <td>NaN</td>\n",
       "      <td>NaN</td>\n",
       "      <td>NaN</td>\n",
       "      <td>NaN</td>\n",
       "      <td>NaN</td>\n",
       "      <td>NaN</td>\n",
       "    </tr>\n",
       "    <tr>\n",
       "      <th>1</th>\n",
       "      <td>1.0</td>\n",
       "      <td>Auto &amp; moto</td>\n",
       "      <td>www.4tuning.ro</td>\n",
       "      <td>4tuningro</td>\n",
       "      <td>NaN</td>\n",
       "      <td>NaN</td>\n",
       "      <td>Thinkdigital Internet &amp; Advertising SA</td>\n",
       "      <td>ThinkDigital</td>\n",
       "      <td>80785.0</td>\n",
       "      <td>44323.0</td>\n",
       "      <td>39260.0</td>\n",
       "    </tr>\n",
       "    <tr>\n",
       "      <th>2</th>\n",
       "      <td>NaN</td>\n",
       "      <td>Auto &amp; moto</td>\n",
       "      <td>www.4tuning.ro</td>\n",
       "      <td>4tuningro</td>\n",
       "      <td>trafic desktop / laptop</td>\n",
       "      <td>NaN</td>\n",
       "      <td>Thinkdigital Internet &amp; Advertising SA</td>\n",
       "      <td>ThinkDigital</td>\n",
       "      <td>15541.0</td>\n",
       "      <td>4797.0</td>\n",
       "      <td>4289.0</td>\n",
       "    </tr>\n",
       "    <tr>\n",
       "      <th>3</th>\n",
       "      <td>NaN</td>\n",
       "      <td>Auto &amp; moto</td>\n",
       "      <td>www.4tuning.ro</td>\n",
       "      <td>4tuningro</td>\n",
       "      <td>trafic mobile (tableta / smartphone)</td>\n",
       "      <td>NaN</td>\n",
       "      <td>Thinkdigital Internet &amp; Advertising SA</td>\n",
       "      <td>ThinkDigital</td>\n",
       "      <td>65233.0</td>\n",
       "      <td>39520.0</td>\n",
       "      <td>34987.0</td>\n",
       "    </tr>\n",
       "    <tr>\n",
       "      <th>4</th>\n",
       "      <td>NaN</td>\n",
       "      <td>Auto &amp; moto</td>\n",
       "      <td>www.4tuning.ro</td>\n",
       "      <td>4tuningro</td>\n",
       "      <td>aplicatii mobile</td>\n",
       "      <td>NaN</td>\n",
       "      <td>Thinkdigital Internet &amp; Advertising SA</td>\n",
       "      <td>ThinkDigital</td>\n",
       "      <td>0.0</td>\n",
       "      <td>0.0</td>\n",
       "      <td>0.0</td>\n",
       "    </tr>\n",
       "    <tr>\n",
       "      <th>...</th>\n",
       "      <td>...</td>\n",
       "      <td>...</td>\n",
       "      <td>...</td>\n",
       "      <td>...</td>\n",
       "      <td>...</td>\n",
       "      <td>...</td>\n",
       "      <td>...</td>\n",
       "      <td>...</td>\n",
       "      <td>...</td>\n",
       "      <td>...</td>\n",
       "      <td>...</td>\n",
       "    </tr>\n",
       "    <tr>\n",
       "      <th>788</th>\n",
       "      <td>NaN</td>\n",
       "      <td>Stiri si analize locale</td>\n",
       "      <td>www.ziuaconstanta.ro</td>\n",
       "      <td>ziuaconstantaro</td>\n",
       "      <td>aplicatii mobile</td>\n",
       "      <td>NaN</td>\n",
       "      <td>Ziua Tomis SRL</td>\n",
       "      <td>NaN</td>\n",
       "      <td>0.0</td>\n",
       "      <td>0.0</td>\n",
       "      <td>0.0</td>\n",
       "    </tr>\n",
       "    <tr>\n",
       "      <th>789</th>\n",
       "      <td>198.0</td>\n",
       "      <td>Muzica &amp; Audio</td>\n",
       "      <td>www.zutv.ro</td>\n",
       "      <td>zutvro</td>\n",
       "      <td>NaN</td>\n",
       "      <td>Antena TV Group SA</td>\n",
       "      <td>Antena TV Group SA</td>\n",
       "      <td>Intact Media</td>\n",
       "      <td>17285.0</td>\n",
       "      <td>12708.0</td>\n",
       "      <td>11186.0</td>\n",
       "    </tr>\n",
       "    <tr>\n",
       "      <th>790</th>\n",
       "      <td>NaN</td>\n",
       "      <td>Muzica &amp; Audio</td>\n",
       "      <td>www.zutv.ro</td>\n",
       "      <td>zutvro</td>\n",
       "      <td>trafic desktop / laptop</td>\n",
       "      <td>Antena TV Group SA</td>\n",
       "      <td>Antena TV Group SA</td>\n",
       "      <td>Intact Media</td>\n",
       "      <td>972.0</td>\n",
       "      <td>487.0</td>\n",
       "      <td>441.0</td>\n",
       "    </tr>\n",
       "    <tr>\n",
       "      <th>791</th>\n",
       "      <td>NaN</td>\n",
       "      <td>Muzica &amp; Audio</td>\n",
       "      <td>www.zutv.ro</td>\n",
       "      <td>zutvro</td>\n",
       "      <td>trafic mobile (tableta / smartphone)</td>\n",
       "      <td>Antena TV Group SA</td>\n",
       "      <td>Antena TV Group SA</td>\n",
       "      <td>Intact Media</td>\n",
       "      <td>16312.0</td>\n",
       "      <td>12220.0</td>\n",
       "      <td>10744.0</td>\n",
       "    </tr>\n",
       "    <tr>\n",
       "      <th>792</th>\n",
       "      <td>NaN</td>\n",
       "      <td>Muzica &amp; Audio</td>\n",
       "      <td>www.zutv.ro</td>\n",
       "      <td>zutvro</td>\n",
       "      <td>aplicatii mobile</td>\n",
       "      <td>Antena TV Group SA</td>\n",
       "      <td>Antena TV Group SA</td>\n",
       "      <td>Intact Media</td>\n",
       "      <td>0.0</td>\n",
       "      <td>0.0</td>\n",
       "      <td>0.0</td>\n",
       "    </tr>\n",
       "  </tbody>\n",
       "</table>\n",
       "<p>793 rows × 11 columns</p>\n",
       "</div>"
      ],
      "text/plain": [
       "       Nr.                Categorie                  Site         Sitecode  \\\n",
       "0      NaN                      NaN                   NaN              NaN   \n",
       "1      1.0              Auto & moto        www.4tuning.ro        4tuningro   \n",
       "2      NaN              Auto & moto        www.4tuning.ro        4tuningro   \n",
       "3      NaN              Auto & moto        www.4tuning.ro        4tuningro   \n",
       "4      NaN              Auto & moto        www.4tuning.ro        4tuningro   \n",
       "..     ...                      ...                   ...              ...   \n",
       "788    NaN  Stiri si analize locale  www.ziuaconstanta.ro  ziuaconstantaro   \n",
       "789  198.0           Muzica & Audio           www.zutv.ro           zutvro   \n",
       "790    NaN           Muzica & Audio           www.zutv.ro           zutvro   \n",
       "791    NaN           Muzica & Audio           www.zutv.ro           zutvro   \n",
       "792    NaN           Muzica & Audio           www.zutv.ro           zutvro   \n",
       "\n",
       "                               Tip trafic         Editor site  \\\n",
       "0                                     NaN                 NaN   \n",
       "1                                     NaN                 NaN   \n",
       "2                 trafic desktop / laptop                 NaN   \n",
       "3    trafic mobile (tableta / smartphone)                 NaN   \n",
       "4                        aplicatii mobile                 NaN   \n",
       "..                                    ...                 ...   \n",
       "788                      aplicatii mobile                 NaN   \n",
       "789                                   NaN  Antena TV Group SA   \n",
       "790               trafic desktop / laptop  Antena TV Group SA   \n",
       "791  trafic mobile (tableta / smartphone)  Antena TV Group SA   \n",
       "792                      aplicatii mobile  Antena TV Group SA   \n",
       "\n",
       "                            Contractor SATI Regie de publicitate  Afisari  \\\n",
       "0                                       NaN                  NaN      NaN   \n",
       "1    Thinkdigital Internet & Advertising SA         ThinkDigital  80785.0   \n",
       "2    Thinkdigital Internet & Advertising SA         ThinkDigital  15541.0   \n",
       "3    Thinkdigital Internet & Advertising SA         ThinkDigital  65233.0   \n",
       "4    Thinkdigital Internet & Advertising SA         ThinkDigital      0.0   \n",
       "..                                      ...                  ...      ...   \n",
       "788                          Ziua Tomis SRL                  NaN      0.0   \n",
       "789                      Antena TV Group SA         Intact Media  17285.0   \n",
       "790                      Antena TV Group SA         Intact Media    972.0   \n",
       "791                      Antena TV Group SA         Intact Media  16312.0   \n",
       "792                      Antena TV Group SA         Intact Media      0.0   \n",
       "\n",
       "      Vizite  Clienti Unici  \n",
       "0        NaN            NaN  \n",
       "1    44323.0        39260.0  \n",
       "2     4797.0         4289.0  \n",
       "3    39520.0        34987.0  \n",
       "4        0.0            0.0  \n",
       "..       ...            ...  \n",
       "788      0.0            0.0  \n",
       "789  12708.0        11186.0  \n",
       "790    487.0          441.0  \n",
       "791  12220.0        10744.0  \n",
       "792      0.0            0.0  \n",
       "\n",
       "[793 rows x 11 columns]"
      ]
     },
     "execution_count": 14,
     "metadata": {},
     "output_type": "execute_result"
    }
   ],
   "source": [
    "import pandas as pd\n",
    "\n",
    "pd.read_excel(file_path, engine=\"xlrd\")"
   ]
  },
  {
   "cell_type": "code",
   "execution_count": 117,
   "metadata": {},
   "outputs": [
    {
     "data": {
      "text/plain": [
       "'2022-5-4'"
      ]
     },
     "execution_count": 117,
     "metadata": {},
     "output_type": "execute_result"
    }
   ],
   "source": [
    "yesterday_dt.strftime(\"%Y-%#m-%#d\")"
   ]
  },
  {
   "cell_type": "code",
   "execution_count": 9,
   "metadata": {},
   "outputs": [],
   "source": [
    "import db_utils\n",
    "\n",
    "client = db_utils.get_data_frame_client('influxdb', 'site_traffic') #site_traffic is the name of db\n",
    "measurement = 'traffic'"
   ]
  },
  {
   "cell_type": "code",
   "execution_count": null,
   "metadata": {},
   "outputs": [],
   "source": [
    "# client.query(\"show databases\")\n",
    "\n",
    "# client.create_database(\"site_traffic\")\n",
    "# client.create_retention_policy(dbname, '1000d', 1, default=True)"
   ]
  },
  {
   "cell_type": "code",
   "execution_count": 119,
   "metadata": {},
   "outputs": [],
   "source": [
    "import data_processing_utils as utils"
   ]
  },
  {
   "cell_type": "code",
   "execution_count": 120,
   "metadata": {},
   "outputs": [
    {
     "data": {
      "text/plain": [
       "'2022-5-4'"
      ]
     },
     "execution_count": 120,
     "metadata": {},
     "output_type": "execute_result"
    }
   ],
   "source": [
    "# get the date of yesterday in YYYY-M-D format (e.g. 2nd of May, 2022 => 2022-5-2) <--- brat.ro publishes info only for the day before current day\n",
    "\n",
    "yesterday_dt_str"
   ]
  },
  {
   "cell_type": "code",
   "execution_count": 125,
   "metadata": {},
   "outputs": [
    {
     "data": {
      "text/plain": [
       "'./data/2022-5-4.xls'"
      ]
     },
     "execution_count": 125,
     "metadata": {},
     "output_type": "execute_result"
    }
   ],
   "source": [
    "\"./data/\" + yesterday_dt_str + \".xls\""
   ]
  },
  {
   "cell_type": "code",
   "execution_count": 127,
   "metadata": {},
   "outputs": [
    {
     "data": {
      "text/plain": [
       "<module 'data_processing_utils' from 'c:\\\\EGYETEM\\\\3. ev\\\\2. felev\\\\Integralt rendszerek ERP\\\\egyeni\\\\src\\\\data_processing_utils.py'>"
      ]
     },
     "execution_count": 127,
     "metadata": {},
     "output_type": "execute_result"
    }
   ],
   "source": [
    "import imp\n",
    "imp.reload(data_processing_utils)"
   ]
  },
  {
   "cell_type": "code",
   "execution_count": 141,
   "metadata": {},
   "outputs": [],
   "source": [
    "file_path = \"./data/\" + str(yesterday_dt_str) + '.xls'"
   ]
  },
  {
   "cell_type": "code",
   "execution_count": 140,
   "metadata": {},
   "outputs": [
    {
     "data": {
      "text/plain": [
       "'2022-5-4'"
      ]
     },
     "execution_count": 140,
     "metadata": {},
     "output_type": "execute_result"
    }
   ],
   "source": [
    "str(yesterday_dt_str)"
   ]
  },
  {
   "cell_type": "code",
   "execution_count": 144,
   "metadata": {},
   "outputs": [
    {
     "data": {
      "text/plain": [
       "str"
      ]
     },
     "execution_count": 144,
     "metadata": {},
     "output_type": "execute_result"
    }
   ],
   "source": [
    "type(file_path) "
   ]
  },
  {
   "cell_type": "code",
   "execution_count": 145,
   "metadata": {},
   "outputs": [
    {
     "ename": "ValueError",
     "evalue": "Excel file format cannot be determined, you must specify an engine manually.",
     "output_type": "error",
     "traceback": [
      "\u001b[1;31m---------------------------------------------------------------------------\u001b[0m",
      "\u001b[1;31mValueError\u001b[0m                                Traceback (most recent call last)",
      "\u001b[1;32m~\\AppData\\Local\\Temp\\ipykernel_27116\\246260063.py\u001b[0m in \u001b[0;36m<module>\u001b[1;34m\u001b[0m\n\u001b[1;32m----> 1\u001b[1;33m \u001b[0mdf_ro\u001b[0m \u001b[1;33m=\u001b[0m \u001b[0mpd\u001b[0m\u001b[1;33m.\u001b[0m\u001b[0mread_excel\u001b[0m\u001b[1;33m(\u001b[0m\u001b[0mstr\u001b[0m\u001b[1;33m(\u001b[0m\u001b[0mfile_path\u001b[0m\u001b[1;33m)\u001b[0m\u001b[1;33m)\u001b[0m\u001b[1;33m\u001b[0m\u001b[1;33m\u001b[0m\u001b[0m\n\u001b[0m",
      "\u001b[1;32m~\\AppData\\Local\\Programs\\Python\\Python310\\lib\\site-packages\\pandas\\util\\_decorators.py\u001b[0m in \u001b[0;36mwrapper\u001b[1;34m(*args, **kwargs)\u001b[0m\n\u001b[0;32m    309\u001b[0m                     \u001b[0mstacklevel\u001b[0m\u001b[1;33m=\u001b[0m\u001b[0mstacklevel\u001b[0m\u001b[1;33m,\u001b[0m\u001b[1;33m\u001b[0m\u001b[1;33m\u001b[0m\u001b[0m\n\u001b[0;32m    310\u001b[0m                 )\n\u001b[1;32m--> 311\u001b[1;33m             \u001b[1;32mreturn\u001b[0m \u001b[0mfunc\u001b[0m\u001b[1;33m(\u001b[0m\u001b[1;33m*\u001b[0m\u001b[0margs\u001b[0m\u001b[1;33m,\u001b[0m \u001b[1;33m**\u001b[0m\u001b[0mkwargs\u001b[0m\u001b[1;33m)\u001b[0m\u001b[1;33m\u001b[0m\u001b[1;33m\u001b[0m\u001b[0m\n\u001b[0m\u001b[0;32m    312\u001b[0m \u001b[1;33m\u001b[0m\u001b[0m\n\u001b[0;32m    313\u001b[0m         \u001b[1;32mreturn\u001b[0m \u001b[0mwrapper\u001b[0m\u001b[1;33m\u001b[0m\u001b[1;33m\u001b[0m\u001b[0m\n",
      "\u001b[1;32m~\\AppData\\Local\\Programs\\Python\\Python310\\lib\\site-packages\\pandas\\io\\excel\\_base.py\u001b[0m in \u001b[0;36mread_excel\u001b[1;34m(io, sheet_name, header, names, index_col, usecols, squeeze, dtype, engine, converters, true_values, false_values, skiprows, nrows, na_values, keep_default_na, na_filter, verbose, parse_dates, date_parser, thousands, comment, skipfooter, convert_float, mangle_dupe_cols, storage_options)\u001b[0m\n\u001b[0;32m    362\u001b[0m     \u001b[1;32mif\u001b[0m \u001b[1;32mnot\u001b[0m \u001b[0misinstance\u001b[0m\u001b[1;33m(\u001b[0m\u001b[0mio\u001b[0m\u001b[1;33m,\u001b[0m \u001b[0mExcelFile\u001b[0m\u001b[1;33m)\u001b[0m\u001b[1;33m:\u001b[0m\u001b[1;33m\u001b[0m\u001b[1;33m\u001b[0m\u001b[0m\n\u001b[0;32m    363\u001b[0m         \u001b[0mshould_close\u001b[0m \u001b[1;33m=\u001b[0m \u001b[1;32mTrue\u001b[0m\u001b[1;33m\u001b[0m\u001b[1;33m\u001b[0m\u001b[0m\n\u001b[1;32m--> 364\u001b[1;33m         \u001b[0mio\u001b[0m \u001b[1;33m=\u001b[0m \u001b[0mExcelFile\u001b[0m\u001b[1;33m(\u001b[0m\u001b[0mio\u001b[0m\u001b[1;33m,\u001b[0m \u001b[0mstorage_options\u001b[0m\u001b[1;33m=\u001b[0m\u001b[0mstorage_options\u001b[0m\u001b[1;33m,\u001b[0m \u001b[0mengine\u001b[0m\u001b[1;33m=\u001b[0m\u001b[0mengine\u001b[0m\u001b[1;33m)\u001b[0m\u001b[1;33m\u001b[0m\u001b[1;33m\u001b[0m\u001b[0m\n\u001b[0m\u001b[0;32m    365\u001b[0m     \u001b[1;32melif\u001b[0m \u001b[0mengine\u001b[0m \u001b[1;32mand\u001b[0m \u001b[0mengine\u001b[0m \u001b[1;33m!=\u001b[0m \u001b[0mio\u001b[0m\u001b[1;33m.\u001b[0m\u001b[0mengine\u001b[0m\u001b[1;33m:\u001b[0m\u001b[1;33m\u001b[0m\u001b[1;33m\u001b[0m\u001b[0m\n\u001b[0;32m    366\u001b[0m         raise ValueError(\n",
      "\u001b[1;32m~\\AppData\\Local\\Programs\\Python\\Python310\\lib\\site-packages\\pandas\\io\\excel\\_base.py\u001b[0m in \u001b[0;36m__init__\u001b[1;34m(self, path_or_buffer, engine, storage_options)\u001b[0m\n\u001b[0;32m   1193\u001b[0m                 )\n\u001b[0;32m   1194\u001b[0m                 \u001b[1;32mif\u001b[0m \u001b[0mext\u001b[0m \u001b[1;32mis\u001b[0m \u001b[1;32mNone\u001b[0m\u001b[1;33m:\u001b[0m\u001b[1;33m\u001b[0m\u001b[1;33m\u001b[0m\u001b[0m\n\u001b[1;32m-> 1195\u001b[1;33m                     raise ValueError(\n\u001b[0m\u001b[0;32m   1196\u001b[0m                         \u001b[1;34m\"Excel file format cannot be determined, you must specify \"\u001b[0m\u001b[1;33m\u001b[0m\u001b[1;33m\u001b[0m\u001b[0m\n\u001b[0;32m   1197\u001b[0m                         \u001b[1;34m\"an engine manually.\"\u001b[0m\u001b[1;33m\u001b[0m\u001b[1;33m\u001b[0m\u001b[0m\n",
      "\u001b[1;31mValueError\u001b[0m: Excel file format cannot be determined, you must specify an engine manually."
     ]
    }
   ],
   "source": [
    "df_ro = pd.read_excel(str(file_path))"
   ]
  },
  {
   "cell_type": "code",
   "execution_count": 129,
   "metadata": {},
   "outputs": [
    {
     "ename": "TypeError",
     "evalue": "expected str, bytes or os.PathLike object, not NoneType",
     "output_type": "error",
     "traceback": [
      "\u001b[1;31m---------------------------------------------------------------------------\u001b[0m",
      "\u001b[1;31mTypeError\u001b[0m                                 Traceback (most recent call last)",
      "\u001b[1;32m~\\AppData\\Local\\Temp\\ipykernel_27116\\1268872173.py\u001b[0m in \u001b[0;36m<module>\u001b[1;34m\u001b[0m\n\u001b[1;32m----> 1\u001b[1;33m \u001b[0mdf\u001b[0m \u001b[1;33m=\u001b[0m \u001b[0mpd\u001b[0m\u001b[1;33m.\u001b[0m\u001b[0mread_excel\u001b[0m\u001b[1;33m(\u001b[0m\u001b[1;34m\"data/2022-5-4.xls\"\u001b[0m\u001b[1;33m,\u001b[0m \u001b[0mengine\u001b[0m\u001b[1;33m=\u001b[0m\u001b[1;34m'xlrd'\u001b[0m\u001b[1;33m)\u001b[0m\u001b[1;33m\u001b[0m\u001b[1;33m\u001b[0m\u001b[0m\n\u001b[0m",
      "\u001b[1;32m~\\AppData\\Local\\Programs\\Python\\Python310\\lib\\site-packages\\pandas\\util\\_decorators.py\u001b[0m in \u001b[0;36mwrapper\u001b[1;34m(*args, **kwargs)\u001b[0m\n\u001b[0;32m    309\u001b[0m                     \u001b[0mstacklevel\u001b[0m\u001b[1;33m=\u001b[0m\u001b[0mstacklevel\u001b[0m\u001b[1;33m,\u001b[0m\u001b[1;33m\u001b[0m\u001b[1;33m\u001b[0m\u001b[0m\n\u001b[0;32m    310\u001b[0m                 )\n\u001b[1;32m--> 311\u001b[1;33m             \u001b[1;32mreturn\u001b[0m \u001b[0mfunc\u001b[0m\u001b[1;33m(\u001b[0m\u001b[1;33m*\u001b[0m\u001b[0margs\u001b[0m\u001b[1;33m,\u001b[0m \u001b[1;33m**\u001b[0m\u001b[0mkwargs\u001b[0m\u001b[1;33m)\u001b[0m\u001b[1;33m\u001b[0m\u001b[1;33m\u001b[0m\u001b[0m\n\u001b[0m\u001b[0;32m    312\u001b[0m \u001b[1;33m\u001b[0m\u001b[0m\n\u001b[0;32m    313\u001b[0m         \u001b[1;32mreturn\u001b[0m \u001b[0mwrapper\u001b[0m\u001b[1;33m\u001b[0m\u001b[1;33m\u001b[0m\u001b[0m\n",
      "\u001b[1;32m~\\AppData\\Local\\Programs\\Python\\Python310\\lib\\site-packages\\pandas\\io\\excel\\_base.py\u001b[0m in \u001b[0;36mread_excel\u001b[1;34m(io, sheet_name, header, names, index_col, usecols, squeeze, dtype, engine, converters, true_values, false_values, skiprows, nrows, na_values, keep_default_na, na_filter, verbose, parse_dates, date_parser, thousands, comment, skipfooter, convert_float, mangle_dupe_cols, storage_options)\u001b[0m\n\u001b[0;32m    362\u001b[0m     \u001b[1;32mif\u001b[0m \u001b[1;32mnot\u001b[0m \u001b[0misinstance\u001b[0m\u001b[1;33m(\u001b[0m\u001b[0mio\u001b[0m\u001b[1;33m,\u001b[0m \u001b[0mExcelFile\u001b[0m\u001b[1;33m)\u001b[0m\u001b[1;33m:\u001b[0m\u001b[1;33m\u001b[0m\u001b[1;33m\u001b[0m\u001b[0m\n\u001b[0;32m    363\u001b[0m         \u001b[0mshould_close\u001b[0m \u001b[1;33m=\u001b[0m \u001b[1;32mTrue\u001b[0m\u001b[1;33m\u001b[0m\u001b[1;33m\u001b[0m\u001b[0m\n\u001b[1;32m--> 364\u001b[1;33m         \u001b[0mio\u001b[0m \u001b[1;33m=\u001b[0m \u001b[0mExcelFile\u001b[0m\u001b[1;33m(\u001b[0m\u001b[0mio\u001b[0m\u001b[1;33m,\u001b[0m \u001b[0mstorage_options\u001b[0m\u001b[1;33m=\u001b[0m\u001b[0mstorage_options\u001b[0m\u001b[1;33m,\u001b[0m \u001b[0mengine\u001b[0m\u001b[1;33m=\u001b[0m\u001b[0mengine\u001b[0m\u001b[1;33m)\u001b[0m\u001b[1;33m\u001b[0m\u001b[1;33m\u001b[0m\u001b[0m\n\u001b[0m\u001b[0;32m    365\u001b[0m     \u001b[1;32melif\u001b[0m \u001b[0mengine\u001b[0m \u001b[1;32mand\u001b[0m \u001b[0mengine\u001b[0m \u001b[1;33m!=\u001b[0m \u001b[0mio\u001b[0m\u001b[1;33m.\u001b[0m\u001b[0mengine\u001b[0m\u001b[1;33m:\u001b[0m\u001b[1;33m\u001b[0m\u001b[1;33m\u001b[0m\u001b[0m\n\u001b[0;32m    366\u001b[0m         raise ValueError(\n",
      "\u001b[1;32m~\\AppData\\Local\\Programs\\Python\\Python310\\lib\\site-packages\\pandas\\io\\excel\\_base.py\u001b[0m in \u001b[0;36m__init__\u001b[1;34m(self, path_or_buffer, engine, storage_options)\u001b[0m\n\u001b[0;32m   1231\u001b[0m         \u001b[0mself\u001b[0m\u001b[1;33m.\u001b[0m\u001b[0mstorage_options\u001b[0m \u001b[1;33m=\u001b[0m \u001b[0mstorage_options\u001b[0m\u001b[1;33m\u001b[0m\u001b[1;33m\u001b[0m\u001b[0m\n\u001b[0;32m   1232\u001b[0m \u001b[1;33m\u001b[0m\u001b[0m\n\u001b[1;32m-> 1233\u001b[1;33m         \u001b[0mself\u001b[0m\u001b[1;33m.\u001b[0m\u001b[0m_reader\u001b[0m \u001b[1;33m=\u001b[0m \u001b[0mself\u001b[0m\u001b[1;33m.\u001b[0m\u001b[0m_engines\u001b[0m\u001b[1;33m[\u001b[0m\u001b[0mengine\u001b[0m\u001b[1;33m]\u001b[0m\u001b[1;33m(\u001b[0m\u001b[0mself\u001b[0m\u001b[1;33m.\u001b[0m\u001b[0m_io\u001b[0m\u001b[1;33m,\u001b[0m \u001b[0mstorage_options\u001b[0m\u001b[1;33m=\u001b[0m\u001b[0mstorage_options\u001b[0m\u001b[1;33m)\u001b[0m\u001b[1;33m\u001b[0m\u001b[1;33m\u001b[0m\u001b[0m\n\u001b[0m\u001b[0;32m   1234\u001b[0m \u001b[1;33m\u001b[0m\u001b[0m\n\u001b[0;32m   1235\u001b[0m     \u001b[1;32mdef\u001b[0m \u001b[0m__fspath__\u001b[0m\u001b[1;33m(\u001b[0m\u001b[0mself\u001b[0m\u001b[1;33m)\u001b[0m\u001b[1;33m:\u001b[0m\u001b[1;33m\u001b[0m\u001b[1;33m\u001b[0m\u001b[0m\n",
      "\u001b[1;32m~\\AppData\\Local\\Programs\\Python\\Python310\\lib\\site-packages\\pandas\\io\\excel\\_xlrd.py\u001b[0m in \u001b[0;36m__init__\u001b[1;34m(self, filepath_or_buffer, storage_options)\u001b[0m\n\u001b[0;32m     23\u001b[0m         \u001b[0merr_msg\u001b[0m \u001b[1;33m=\u001b[0m \u001b[1;34m\"Install xlrd >= 1.0.0 for Excel support\"\u001b[0m\u001b[1;33m\u001b[0m\u001b[1;33m\u001b[0m\u001b[0m\n\u001b[0;32m     24\u001b[0m         \u001b[0mimport_optional_dependency\u001b[0m\u001b[1;33m(\u001b[0m\u001b[1;34m\"xlrd\"\u001b[0m\u001b[1;33m,\u001b[0m \u001b[0mextra\u001b[0m\u001b[1;33m=\u001b[0m\u001b[0merr_msg\u001b[0m\u001b[1;33m)\u001b[0m\u001b[1;33m\u001b[0m\u001b[1;33m\u001b[0m\u001b[0m\n\u001b[1;32m---> 25\u001b[1;33m         \u001b[0msuper\u001b[0m\u001b[1;33m(\u001b[0m\u001b[1;33m)\u001b[0m\u001b[1;33m.\u001b[0m\u001b[0m__init__\u001b[0m\u001b[1;33m(\u001b[0m\u001b[0mfilepath_or_buffer\u001b[0m\u001b[1;33m,\u001b[0m \u001b[0mstorage_options\u001b[0m\u001b[1;33m=\u001b[0m\u001b[0mstorage_options\u001b[0m\u001b[1;33m)\u001b[0m\u001b[1;33m\u001b[0m\u001b[1;33m\u001b[0m\u001b[0m\n\u001b[0m\u001b[0;32m     26\u001b[0m \u001b[1;33m\u001b[0m\u001b[0m\n\u001b[0;32m     27\u001b[0m     \u001b[1;33m@\u001b[0m\u001b[0mproperty\u001b[0m\u001b[1;33m\u001b[0m\u001b[1;33m\u001b[0m\u001b[0m\n",
      "\u001b[1;32m~\\AppData\\Local\\Programs\\Python\\Python310\\lib\\site-packages\\pandas\\io\\excel\\_base.py\u001b[0m in \u001b[0;36m__init__\u001b[1;34m(self, filepath_or_buffer, storage_options)\u001b[0m\n\u001b[0;32m    418\u001b[0m             \u001b[0mself\u001b[0m\u001b[1;33m.\u001b[0m\u001b[0mhandles\u001b[0m\u001b[1;33m.\u001b[0m\u001b[0mhandle\u001b[0m\u001b[1;33m.\u001b[0m\u001b[0mseek\u001b[0m\u001b[1;33m(\u001b[0m\u001b[1;36m0\u001b[0m\u001b[1;33m)\u001b[0m\u001b[1;33m\u001b[0m\u001b[1;33m\u001b[0m\u001b[0m\n\u001b[0;32m    419\u001b[0m             \u001b[1;32mtry\u001b[0m\u001b[1;33m:\u001b[0m\u001b[1;33m\u001b[0m\u001b[1;33m\u001b[0m\u001b[0m\n\u001b[1;32m--> 420\u001b[1;33m                 \u001b[0mself\u001b[0m\u001b[1;33m.\u001b[0m\u001b[0mbook\u001b[0m \u001b[1;33m=\u001b[0m \u001b[0mself\u001b[0m\u001b[1;33m.\u001b[0m\u001b[0mload_workbook\u001b[0m\u001b[1;33m(\u001b[0m\u001b[0mself\u001b[0m\u001b[1;33m.\u001b[0m\u001b[0mhandles\u001b[0m\u001b[1;33m.\u001b[0m\u001b[0mhandle\u001b[0m\u001b[1;33m)\u001b[0m\u001b[1;33m\u001b[0m\u001b[1;33m\u001b[0m\u001b[0m\n\u001b[0m\u001b[0;32m    421\u001b[0m             \u001b[1;32mexcept\u001b[0m \u001b[0mException\u001b[0m\u001b[1;33m:\u001b[0m\u001b[1;33m\u001b[0m\u001b[1;33m\u001b[0m\u001b[0m\n\u001b[0;32m    422\u001b[0m                 \u001b[0mself\u001b[0m\u001b[1;33m.\u001b[0m\u001b[0mclose\u001b[0m\u001b[1;33m(\u001b[0m\u001b[1;33m)\u001b[0m\u001b[1;33m\u001b[0m\u001b[1;33m\u001b[0m\u001b[0m\n",
      "\u001b[1;32m~\\AppData\\Local\\Programs\\Python\\Python310\\lib\\site-packages\\pandas\\io\\excel\\_xlrd.py\u001b[0m in \u001b[0;36mload_workbook\u001b[1;34m(self, filepath_or_buffer)\u001b[0m\n\u001b[0;32m     36\u001b[0m         \u001b[1;32mif\u001b[0m \u001b[0mhasattr\u001b[0m\u001b[1;33m(\u001b[0m\u001b[0mfilepath_or_buffer\u001b[0m\u001b[1;33m,\u001b[0m \u001b[1;34m\"read\"\u001b[0m\u001b[1;33m)\u001b[0m\u001b[1;33m:\u001b[0m\u001b[1;33m\u001b[0m\u001b[1;33m\u001b[0m\u001b[0m\n\u001b[0;32m     37\u001b[0m             \u001b[0mdata\u001b[0m \u001b[1;33m=\u001b[0m \u001b[0mfilepath_or_buffer\u001b[0m\u001b[1;33m.\u001b[0m\u001b[0mread\u001b[0m\u001b[1;33m(\u001b[0m\u001b[1;33m)\u001b[0m\u001b[1;33m\u001b[0m\u001b[1;33m\u001b[0m\u001b[0m\n\u001b[1;32m---> 38\u001b[1;33m             \u001b[1;32mreturn\u001b[0m \u001b[0mopen_workbook\u001b[0m\u001b[1;33m(\u001b[0m\u001b[0mfile_contents\u001b[0m\u001b[1;33m=\u001b[0m\u001b[0mdata\u001b[0m\u001b[1;33m)\u001b[0m\u001b[1;33m\u001b[0m\u001b[1;33m\u001b[0m\u001b[0m\n\u001b[0m\u001b[0;32m     39\u001b[0m         \u001b[1;32melse\u001b[0m\u001b[1;33m:\u001b[0m\u001b[1;33m\u001b[0m\u001b[1;33m\u001b[0m\u001b[0m\n\u001b[0;32m     40\u001b[0m             \u001b[1;32mreturn\u001b[0m \u001b[0mopen_workbook\u001b[0m\u001b[1;33m(\u001b[0m\u001b[0mfilepath_or_buffer\u001b[0m\u001b[1;33m)\u001b[0m\u001b[1;33m\u001b[0m\u001b[1;33m\u001b[0m\u001b[0m\n",
      "\u001b[1;32m~\\AppData\\Local\\Programs\\Python\\Python310\\lib\\site-packages\\xlrd\\__init__.py\u001b[0m in \u001b[0;36mopen_workbook\u001b[1;34m(filename, logfile, verbosity, use_mmap, file_contents, encoding_override, formatting_info, on_demand, ragged_rows, ignore_workbook_corruption)\u001b[0m\n\u001b[0;32m    164\u001b[0m     \"\"\"\n\u001b[0;32m    165\u001b[0m \u001b[1;33m\u001b[0m\u001b[0m\n\u001b[1;32m--> 166\u001b[1;33m     \u001b[0mfile_format\u001b[0m \u001b[1;33m=\u001b[0m \u001b[0minspect_format\u001b[0m\u001b[1;33m(\u001b[0m\u001b[0mfilename\u001b[0m\u001b[1;33m,\u001b[0m \u001b[0mfile_contents\u001b[0m\u001b[1;33m)\u001b[0m\u001b[1;33m\u001b[0m\u001b[1;33m\u001b[0m\u001b[0m\n\u001b[0m\u001b[0;32m    167\u001b[0m     \u001b[1;31m# We have to let unknown file formats pass through here, as some ancient\u001b[0m\u001b[1;33m\u001b[0m\u001b[1;33m\u001b[0m\u001b[0m\n\u001b[0;32m    168\u001b[0m     \u001b[1;31m# files that xlrd can parse don't start with the expected signature.\u001b[0m\u001b[1;33m\u001b[0m\u001b[1;33m\u001b[0m\u001b[0m\n",
      "\u001b[1;32m~\\AppData\\Local\\Programs\\Python\\Python310\\lib\\site-packages\\xlrd\\__init__.py\u001b[0m in \u001b[0;36minspect_format\u001b[1;34m(path, content)\u001b[0m\n\u001b[0;32m     57\u001b[0m         \u001b[0mpeek\u001b[0m \u001b[1;33m=\u001b[0m \u001b[0mcontent\u001b[0m\u001b[1;33m[\u001b[0m\u001b[1;33m:\u001b[0m\u001b[0mPEEK_SIZE\u001b[0m\u001b[1;33m]\u001b[0m\u001b[1;33m\u001b[0m\u001b[1;33m\u001b[0m\u001b[0m\n\u001b[0;32m     58\u001b[0m     \u001b[1;32melse\u001b[0m\u001b[1;33m:\u001b[0m\u001b[1;33m\u001b[0m\u001b[1;33m\u001b[0m\u001b[0m\n\u001b[1;32m---> 59\u001b[1;33m         \u001b[0mpath\u001b[0m \u001b[1;33m=\u001b[0m \u001b[0mos\u001b[0m\u001b[1;33m.\u001b[0m\u001b[0mpath\u001b[0m\u001b[1;33m.\u001b[0m\u001b[0mexpanduser\u001b[0m\u001b[1;33m(\u001b[0m\u001b[0mpath\u001b[0m\u001b[1;33m)\u001b[0m\u001b[1;33m\u001b[0m\u001b[1;33m\u001b[0m\u001b[0m\n\u001b[0m\u001b[0;32m     60\u001b[0m         \u001b[1;32mwith\u001b[0m \u001b[0mopen\u001b[0m\u001b[1;33m(\u001b[0m\u001b[0mpath\u001b[0m\u001b[1;33m,\u001b[0m \u001b[1;34m\"rb\"\u001b[0m\u001b[1;33m)\u001b[0m \u001b[1;32mas\u001b[0m \u001b[0mf\u001b[0m\u001b[1;33m:\u001b[0m\u001b[1;33m\u001b[0m\u001b[1;33m\u001b[0m\u001b[0m\n\u001b[0;32m     61\u001b[0m             \u001b[0mpeek\u001b[0m \u001b[1;33m=\u001b[0m \u001b[0mf\u001b[0m\u001b[1;33m.\u001b[0m\u001b[0mread\u001b[0m\u001b[1;33m(\u001b[0m\u001b[0mPEEK_SIZE\u001b[0m\u001b[1;33m)\u001b[0m\u001b[1;33m\u001b[0m\u001b[1;33m\u001b[0m\u001b[0m\n",
      "\u001b[1;32m~\\AppData\\Local\\Programs\\Python\\Python310\\lib\\ntpath.py\u001b[0m in \u001b[0;36mexpanduser\u001b[1;34m(path)\u001b[0m\n\u001b[0;32m    291\u001b[0m \u001b[1;33m\u001b[0m\u001b[0m\n\u001b[0;32m    292\u001b[0m     If user or $HOME is unknown, do nothing.\"\"\"\n\u001b[1;32m--> 293\u001b[1;33m     \u001b[0mpath\u001b[0m \u001b[1;33m=\u001b[0m \u001b[0mos\u001b[0m\u001b[1;33m.\u001b[0m\u001b[0mfspath\u001b[0m\u001b[1;33m(\u001b[0m\u001b[0mpath\u001b[0m\u001b[1;33m)\u001b[0m\u001b[1;33m\u001b[0m\u001b[1;33m\u001b[0m\u001b[0m\n\u001b[0m\u001b[0;32m    294\u001b[0m     \u001b[1;32mif\u001b[0m \u001b[0misinstance\u001b[0m\u001b[1;33m(\u001b[0m\u001b[0mpath\u001b[0m\u001b[1;33m,\u001b[0m \u001b[0mbytes\u001b[0m\u001b[1;33m)\u001b[0m\u001b[1;33m:\u001b[0m\u001b[1;33m\u001b[0m\u001b[1;33m\u001b[0m\u001b[0m\n\u001b[0;32m    295\u001b[0m         \u001b[0mtilde\u001b[0m \u001b[1;33m=\u001b[0m \u001b[1;34mb'~'\u001b[0m\u001b[1;33m\u001b[0m\u001b[1;33m\u001b[0m\u001b[0m\n",
      "\u001b[1;31mTypeError\u001b[0m: expected str, bytes or os.PathLike object, not NoneType"
     ]
    }
   ],
   "source": [
    "df = pd.read_excel(\"data/2022-5-4.xls\", engine='xlrd')"
   ]
  },
  {
   "cell_type": "code",
   "execution_count": 128,
   "metadata": {},
   "outputs": [
    {
     "name": "stdout",
     "output_type": "stream",
     "text": [
      "data/2022-5-4.xls\n"
     ]
    },
    {
     "ename": "TypeError",
     "evalue": "expected str, bytes or os.PathLike object, not NoneType",
     "output_type": "error",
     "traceback": [
      "\u001b[1;31m---------------------------------------------------------------------------\u001b[0m",
      "\u001b[1;31mTypeError\u001b[0m                                 Traceback (most recent call last)",
      "\u001b[1;32m~\\AppData\\Local\\Temp\\ipykernel_27116\\2538792500.py\u001b[0m in \u001b[0;36m<module>\u001b[1;34m\u001b[0m\n\u001b[0;32m      1\u001b[0m \u001b[1;31m# download and normalize data === worldwide traffic\u001b[0m\u001b[1;33m\u001b[0m\u001b[1;33m\u001b[0m\u001b[0m\n\u001b[1;32m----> 2\u001b[1;33m \u001b[0mdf\u001b[0m \u001b[1;33m=\u001b[0m \u001b[0mutils\u001b[0m\u001b[1;33m.\u001b[0m\u001b[0mget_normalized_resource\u001b[0m\u001b[1;33m(\u001b[0m\u001b[0mresource_url\u001b[0m\u001b[1;33m=\u001b[0m\u001b[1;34m\"https://www.brat.ro/sati/export-rezultate/export/xls/site/c/all/period_type/day/period_filter/\"\u001b[0m\u001b[1;33m+\u001b[0m \u001b[0myesterday_dt_str\u001b[0m \u001b[1;33m+\u001b[0m\u001b[1;34m\"/category/all/editor/all/order_by/name/order/desc/\"\u001b[0m\u001b[1;33m,\u001b[0m \u001b[0mfile_path\u001b[0m\u001b[1;33m=\u001b[0m\u001b[1;34m\"data/\"\u001b[0m \u001b[1;33m+\u001b[0m \u001b[0myesterday_dt_str\u001b[0m \u001b[1;33m+\u001b[0m \u001b[1;34m\".xls\"\u001b[0m\u001b[1;33m,\u001b[0m \u001b[0mfrom_date\u001b[0m\u001b[1;33m=\u001b[0m\u001b[0myesterday_dt\u001b[0m\u001b[1;33m,\u001b[0m \u001b[0mregion_type\u001b[0m\u001b[1;33m=\u001b[0m\u001b[1;34m'all'\u001b[0m\u001b[1;33m)\u001b[0m\u001b[1;33m\u001b[0m\u001b[1;33m\u001b[0m\u001b[0m\n\u001b[0m",
      "\u001b[1;32mc:\\EGYETEM\\3. ev\\2. felev\\Integralt rendszerek ERP\\egyeni\\src\\data_processing_utils.py\u001b[0m in \u001b[0;36mget_normalized_resource\u001b[1;34m(resource_url, file_path, from_date, region_type)\u001b[0m\n\u001b[0;32m     89\u001b[0m \u001b[1;33m\u001b[0m\u001b[0m\n\u001b[0;32m     90\u001b[0m     \u001b[1;31m#normalize downloaded resourse\u001b[0m\u001b[1;33m\u001b[0m\u001b[1;33m\u001b[0m\u001b[0m\n\u001b[1;32m---> 91\u001b[1;33m     \u001b[0mdf\u001b[0m \u001b[1;33m=\u001b[0m \u001b[0mpd\u001b[0m\u001b[1;33m.\u001b[0m\u001b[0mread_excel\u001b[0m\u001b[1;33m(\u001b[0m\u001b[0mfile_path\u001b[0m\u001b[1;33m,\u001b[0m \u001b[0mengine\u001b[0m\u001b[1;33m=\u001b[0m\u001b[1;34m'xlrd'\u001b[0m\u001b[1;33m)\u001b[0m\u001b[1;33m\u001b[0m\u001b[1;33m\u001b[0m\u001b[0m\n\u001b[0m\u001b[0;32m     92\u001b[0m     \u001b[0mnormalize_df\u001b[0m\u001b[1;33m(\u001b[0m\u001b[0mdf\u001b[0m\u001b[1;33m,\u001b[0m \u001b[0mregion_type\u001b[0m\u001b[1;33m,\u001b[0m \u001b[0mfrom_date\u001b[0m\u001b[1;33m)\u001b[0m\u001b[1;33m\u001b[0m\u001b[1;33m\u001b[0m\u001b[0m\n\u001b[0;32m     93\u001b[0m \u001b[1;33m\u001b[0m\u001b[0m\n",
      "\u001b[1;32m~\\AppData\\Local\\Programs\\Python\\Python310\\lib\\site-packages\\pandas\\util\\_decorators.py\u001b[0m in \u001b[0;36mwrapper\u001b[1;34m(*args, **kwargs)\u001b[0m\n\u001b[0;32m    309\u001b[0m                     \u001b[0mstacklevel\u001b[0m\u001b[1;33m=\u001b[0m\u001b[0mstacklevel\u001b[0m\u001b[1;33m,\u001b[0m\u001b[1;33m\u001b[0m\u001b[1;33m\u001b[0m\u001b[0m\n\u001b[0;32m    310\u001b[0m                 )\n\u001b[1;32m--> 311\u001b[1;33m             \u001b[1;32mreturn\u001b[0m \u001b[0mfunc\u001b[0m\u001b[1;33m(\u001b[0m\u001b[1;33m*\u001b[0m\u001b[0margs\u001b[0m\u001b[1;33m,\u001b[0m \u001b[1;33m**\u001b[0m\u001b[0mkwargs\u001b[0m\u001b[1;33m)\u001b[0m\u001b[1;33m\u001b[0m\u001b[1;33m\u001b[0m\u001b[0m\n\u001b[0m\u001b[0;32m    312\u001b[0m \u001b[1;33m\u001b[0m\u001b[0m\n\u001b[0;32m    313\u001b[0m         \u001b[1;32mreturn\u001b[0m \u001b[0mwrapper\u001b[0m\u001b[1;33m\u001b[0m\u001b[1;33m\u001b[0m\u001b[0m\n",
      "\u001b[1;32m~\\AppData\\Local\\Programs\\Python\\Python310\\lib\\site-packages\\pandas\\io\\excel\\_base.py\u001b[0m in \u001b[0;36mread_excel\u001b[1;34m(io, sheet_name, header, names, index_col, usecols, squeeze, dtype, engine, converters, true_values, false_values, skiprows, nrows, na_values, keep_default_na, na_filter, verbose, parse_dates, date_parser, thousands, comment, skipfooter, convert_float, mangle_dupe_cols, storage_options)\u001b[0m\n\u001b[0;32m    362\u001b[0m     \u001b[1;32mif\u001b[0m \u001b[1;32mnot\u001b[0m \u001b[0misinstance\u001b[0m\u001b[1;33m(\u001b[0m\u001b[0mio\u001b[0m\u001b[1;33m,\u001b[0m \u001b[0mExcelFile\u001b[0m\u001b[1;33m)\u001b[0m\u001b[1;33m:\u001b[0m\u001b[1;33m\u001b[0m\u001b[1;33m\u001b[0m\u001b[0m\n\u001b[0;32m    363\u001b[0m         \u001b[0mshould_close\u001b[0m \u001b[1;33m=\u001b[0m \u001b[1;32mTrue\u001b[0m\u001b[1;33m\u001b[0m\u001b[1;33m\u001b[0m\u001b[0m\n\u001b[1;32m--> 364\u001b[1;33m         \u001b[0mio\u001b[0m \u001b[1;33m=\u001b[0m \u001b[0mExcelFile\u001b[0m\u001b[1;33m(\u001b[0m\u001b[0mio\u001b[0m\u001b[1;33m,\u001b[0m \u001b[0mstorage_options\u001b[0m\u001b[1;33m=\u001b[0m\u001b[0mstorage_options\u001b[0m\u001b[1;33m,\u001b[0m \u001b[0mengine\u001b[0m\u001b[1;33m=\u001b[0m\u001b[0mengine\u001b[0m\u001b[1;33m)\u001b[0m\u001b[1;33m\u001b[0m\u001b[1;33m\u001b[0m\u001b[0m\n\u001b[0m\u001b[0;32m    365\u001b[0m     \u001b[1;32melif\u001b[0m \u001b[0mengine\u001b[0m \u001b[1;32mand\u001b[0m \u001b[0mengine\u001b[0m \u001b[1;33m!=\u001b[0m \u001b[0mio\u001b[0m\u001b[1;33m.\u001b[0m\u001b[0mengine\u001b[0m\u001b[1;33m:\u001b[0m\u001b[1;33m\u001b[0m\u001b[1;33m\u001b[0m\u001b[0m\n\u001b[0;32m    366\u001b[0m         raise ValueError(\n",
      "\u001b[1;32m~\\AppData\\Local\\Programs\\Python\\Python310\\lib\\site-packages\\pandas\\io\\excel\\_base.py\u001b[0m in \u001b[0;36m__init__\u001b[1;34m(self, path_or_buffer, engine, storage_options)\u001b[0m\n\u001b[0;32m   1231\u001b[0m         \u001b[0mself\u001b[0m\u001b[1;33m.\u001b[0m\u001b[0mstorage_options\u001b[0m \u001b[1;33m=\u001b[0m \u001b[0mstorage_options\u001b[0m\u001b[1;33m\u001b[0m\u001b[1;33m\u001b[0m\u001b[0m\n\u001b[0;32m   1232\u001b[0m \u001b[1;33m\u001b[0m\u001b[0m\n\u001b[1;32m-> 1233\u001b[1;33m         \u001b[0mself\u001b[0m\u001b[1;33m.\u001b[0m\u001b[0m_reader\u001b[0m \u001b[1;33m=\u001b[0m \u001b[0mself\u001b[0m\u001b[1;33m.\u001b[0m\u001b[0m_engines\u001b[0m\u001b[1;33m[\u001b[0m\u001b[0mengine\u001b[0m\u001b[1;33m]\u001b[0m\u001b[1;33m(\u001b[0m\u001b[0mself\u001b[0m\u001b[1;33m.\u001b[0m\u001b[0m_io\u001b[0m\u001b[1;33m,\u001b[0m \u001b[0mstorage_options\u001b[0m\u001b[1;33m=\u001b[0m\u001b[0mstorage_options\u001b[0m\u001b[1;33m)\u001b[0m\u001b[1;33m\u001b[0m\u001b[1;33m\u001b[0m\u001b[0m\n\u001b[0m\u001b[0;32m   1234\u001b[0m \u001b[1;33m\u001b[0m\u001b[0m\n\u001b[0;32m   1235\u001b[0m     \u001b[1;32mdef\u001b[0m \u001b[0m__fspath__\u001b[0m\u001b[1;33m(\u001b[0m\u001b[0mself\u001b[0m\u001b[1;33m)\u001b[0m\u001b[1;33m:\u001b[0m\u001b[1;33m\u001b[0m\u001b[1;33m\u001b[0m\u001b[0m\n",
      "\u001b[1;32m~\\AppData\\Local\\Programs\\Python\\Python310\\lib\\site-packages\\pandas\\io\\excel\\_xlrd.py\u001b[0m in \u001b[0;36m__init__\u001b[1;34m(self, filepath_or_buffer, storage_options)\u001b[0m\n\u001b[0;32m     23\u001b[0m         \u001b[0merr_msg\u001b[0m \u001b[1;33m=\u001b[0m \u001b[1;34m\"Install xlrd >= 1.0.0 for Excel support\"\u001b[0m\u001b[1;33m\u001b[0m\u001b[1;33m\u001b[0m\u001b[0m\n\u001b[0;32m     24\u001b[0m         \u001b[0mimport_optional_dependency\u001b[0m\u001b[1;33m(\u001b[0m\u001b[1;34m\"xlrd\"\u001b[0m\u001b[1;33m,\u001b[0m \u001b[0mextra\u001b[0m\u001b[1;33m=\u001b[0m\u001b[0merr_msg\u001b[0m\u001b[1;33m)\u001b[0m\u001b[1;33m\u001b[0m\u001b[1;33m\u001b[0m\u001b[0m\n\u001b[1;32m---> 25\u001b[1;33m         \u001b[0msuper\u001b[0m\u001b[1;33m(\u001b[0m\u001b[1;33m)\u001b[0m\u001b[1;33m.\u001b[0m\u001b[0m__init__\u001b[0m\u001b[1;33m(\u001b[0m\u001b[0mfilepath_or_buffer\u001b[0m\u001b[1;33m,\u001b[0m \u001b[0mstorage_options\u001b[0m\u001b[1;33m=\u001b[0m\u001b[0mstorage_options\u001b[0m\u001b[1;33m)\u001b[0m\u001b[1;33m\u001b[0m\u001b[1;33m\u001b[0m\u001b[0m\n\u001b[0m\u001b[0;32m     26\u001b[0m \u001b[1;33m\u001b[0m\u001b[0m\n\u001b[0;32m     27\u001b[0m     \u001b[1;33m@\u001b[0m\u001b[0mproperty\u001b[0m\u001b[1;33m\u001b[0m\u001b[1;33m\u001b[0m\u001b[0m\n",
      "\u001b[1;32m~\\AppData\\Local\\Programs\\Python\\Python310\\lib\\site-packages\\pandas\\io\\excel\\_base.py\u001b[0m in \u001b[0;36m__init__\u001b[1;34m(self, filepath_or_buffer, storage_options)\u001b[0m\n\u001b[0;32m    418\u001b[0m             \u001b[0mself\u001b[0m\u001b[1;33m.\u001b[0m\u001b[0mhandles\u001b[0m\u001b[1;33m.\u001b[0m\u001b[0mhandle\u001b[0m\u001b[1;33m.\u001b[0m\u001b[0mseek\u001b[0m\u001b[1;33m(\u001b[0m\u001b[1;36m0\u001b[0m\u001b[1;33m)\u001b[0m\u001b[1;33m\u001b[0m\u001b[1;33m\u001b[0m\u001b[0m\n\u001b[0;32m    419\u001b[0m             \u001b[1;32mtry\u001b[0m\u001b[1;33m:\u001b[0m\u001b[1;33m\u001b[0m\u001b[1;33m\u001b[0m\u001b[0m\n\u001b[1;32m--> 420\u001b[1;33m                 \u001b[0mself\u001b[0m\u001b[1;33m.\u001b[0m\u001b[0mbook\u001b[0m \u001b[1;33m=\u001b[0m \u001b[0mself\u001b[0m\u001b[1;33m.\u001b[0m\u001b[0mload_workbook\u001b[0m\u001b[1;33m(\u001b[0m\u001b[0mself\u001b[0m\u001b[1;33m.\u001b[0m\u001b[0mhandles\u001b[0m\u001b[1;33m.\u001b[0m\u001b[0mhandle\u001b[0m\u001b[1;33m)\u001b[0m\u001b[1;33m\u001b[0m\u001b[1;33m\u001b[0m\u001b[0m\n\u001b[0m\u001b[0;32m    421\u001b[0m             \u001b[1;32mexcept\u001b[0m \u001b[0mException\u001b[0m\u001b[1;33m:\u001b[0m\u001b[1;33m\u001b[0m\u001b[1;33m\u001b[0m\u001b[0m\n\u001b[0;32m    422\u001b[0m                 \u001b[0mself\u001b[0m\u001b[1;33m.\u001b[0m\u001b[0mclose\u001b[0m\u001b[1;33m(\u001b[0m\u001b[1;33m)\u001b[0m\u001b[1;33m\u001b[0m\u001b[1;33m\u001b[0m\u001b[0m\n",
      "\u001b[1;32m~\\AppData\\Local\\Programs\\Python\\Python310\\lib\\site-packages\\pandas\\io\\excel\\_xlrd.py\u001b[0m in \u001b[0;36mload_workbook\u001b[1;34m(self, filepath_or_buffer)\u001b[0m\n\u001b[0;32m     36\u001b[0m         \u001b[1;32mif\u001b[0m \u001b[0mhasattr\u001b[0m\u001b[1;33m(\u001b[0m\u001b[0mfilepath_or_buffer\u001b[0m\u001b[1;33m,\u001b[0m \u001b[1;34m\"read\"\u001b[0m\u001b[1;33m)\u001b[0m\u001b[1;33m:\u001b[0m\u001b[1;33m\u001b[0m\u001b[1;33m\u001b[0m\u001b[0m\n\u001b[0;32m     37\u001b[0m             \u001b[0mdata\u001b[0m \u001b[1;33m=\u001b[0m \u001b[0mfilepath_or_buffer\u001b[0m\u001b[1;33m.\u001b[0m\u001b[0mread\u001b[0m\u001b[1;33m(\u001b[0m\u001b[1;33m)\u001b[0m\u001b[1;33m\u001b[0m\u001b[1;33m\u001b[0m\u001b[0m\n\u001b[1;32m---> 38\u001b[1;33m             \u001b[1;32mreturn\u001b[0m \u001b[0mopen_workbook\u001b[0m\u001b[1;33m(\u001b[0m\u001b[0mfile_contents\u001b[0m\u001b[1;33m=\u001b[0m\u001b[0mdata\u001b[0m\u001b[1;33m)\u001b[0m\u001b[1;33m\u001b[0m\u001b[1;33m\u001b[0m\u001b[0m\n\u001b[0m\u001b[0;32m     39\u001b[0m         \u001b[1;32melse\u001b[0m\u001b[1;33m:\u001b[0m\u001b[1;33m\u001b[0m\u001b[1;33m\u001b[0m\u001b[0m\n\u001b[0;32m     40\u001b[0m             \u001b[1;32mreturn\u001b[0m \u001b[0mopen_workbook\u001b[0m\u001b[1;33m(\u001b[0m\u001b[0mfilepath_or_buffer\u001b[0m\u001b[1;33m)\u001b[0m\u001b[1;33m\u001b[0m\u001b[1;33m\u001b[0m\u001b[0m\n",
      "\u001b[1;32m~\\AppData\\Local\\Programs\\Python\\Python310\\lib\\site-packages\\xlrd\\__init__.py\u001b[0m in \u001b[0;36mopen_workbook\u001b[1;34m(filename, logfile, verbosity, use_mmap, file_contents, encoding_override, formatting_info, on_demand, ragged_rows, ignore_workbook_corruption)\u001b[0m\n\u001b[0;32m    164\u001b[0m     \"\"\"\n\u001b[0;32m    165\u001b[0m \u001b[1;33m\u001b[0m\u001b[0m\n\u001b[1;32m--> 166\u001b[1;33m     \u001b[0mfile_format\u001b[0m \u001b[1;33m=\u001b[0m \u001b[0minspect_format\u001b[0m\u001b[1;33m(\u001b[0m\u001b[0mfilename\u001b[0m\u001b[1;33m,\u001b[0m \u001b[0mfile_contents\u001b[0m\u001b[1;33m)\u001b[0m\u001b[1;33m\u001b[0m\u001b[1;33m\u001b[0m\u001b[0m\n\u001b[0m\u001b[0;32m    167\u001b[0m     \u001b[1;31m# We have to let unknown file formats pass through here, as some ancient\u001b[0m\u001b[1;33m\u001b[0m\u001b[1;33m\u001b[0m\u001b[0m\n\u001b[0;32m    168\u001b[0m     \u001b[1;31m# files that xlrd can parse don't start with the expected signature.\u001b[0m\u001b[1;33m\u001b[0m\u001b[1;33m\u001b[0m\u001b[0m\n",
      "\u001b[1;32m~\\AppData\\Local\\Programs\\Python\\Python310\\lib\\site-packages\\xlrd\\__init__.py\u001b[0m in \u001b[0;36minspect_format\u001b[1;34m(path, content)\u001b[0m\n\u001b[0;32m     57\u001b[0m         \u001b[0mpeek\u001b[0m \u001b[1;33m=\u001b[0m \u001b[0mcontent\u001b[0m\u001b[1;33m[\u001b[0m\u001b[1;33m:\u001b[0m\u001b[0mPEEK_SIZE\u001b[0m\u001b[1;33m]\u001b[0m\u001b[1;33m\u001b[0m\u001b[1;33m\u001b[0m\u001b[0m\n\u001b[0;32m     58\u001b[0m     \u001b[1;32melse\u001b[0m\u001b[1;33m:\u001b[0m\u001b[1;33m\u001b[0m\u001b[1;33m\u001b[0m\u001b[0m\n\u001b[1;32m---> 59\u001b[1;33m         \u001b[0mpath\u001b[0m \u001b[1;33m=\u001b[0m \u001b[0mos\u001b[0m\u001b[1;33m.\u001b[0m\u001b[0mpath\u001b[0m\u001b[1;33m.\u001b[0m\u001b[0mexpanduser\u001b[0m\u001b[1;33m(\u001b[0m\u001b[0mpath\u001b[0m\u001b[1;33m)\u001b[0m\u001b[1;33m\u001b[0m\u001b[1;33m\u001b[0m\u001b[0m\n\u001b[0m\u001b[0;32m     60\u001b[0m         \u001b[1;32mwith\u001b[0m \u001b[0mopen\u001b[0m\u001b[1;33m(\u001b[0m\u001b[0mpath\u001b[0m\u001b[1;33m,\u001b[0m \u001b[1;34m\"rb\"\u001b[0m\u001b[1;33m)\u001b[0m \u001b[1;32mas\u001b[0m \u001b[0mf\u001b[0m\u001b[1;33m:\u001b[0m\u001b[1;33m\u001b[0m\u001b[1;33m\u001b[0m\u001b[0m\n\u001b[0;32m     61\u001b[0m             \u001b[0mpeek\u001b[0m \u001b[1;33m=\u001b[0m \u001b[0mf\u001b[0m\u001b[1;33m.\u001b[0m\u001b[0mread\u001b[0m\u001b[1;33m(\u001b[0m\u001b[0mPEEK_SIZE\u001b[0m\u001b[1;33m)\u001b[0m\u001b[1;33m\u001b[0m\u001b[1;33m\u001b[0m\u001b[0m\n",
      "\u001b[1;32m~\\AppData\\Local\\Programs\\Python\\Python310\\lib\\ntpath.py\u001b[0m in \u001b[0;36mexpanduser\u001b[1;34m(path)\u001b[0m\n\u001b[0;32m    291\u001b[0m \u001b[1;33m\u001b[0m\u001b[0m\n\u001b[0;32m    292\u001b[0m     If user or $HOME is unknown, do nothing.\"\"\"\n\u001b[1;32m--> 293\u001b[1;33m     \u001b[0mpath\u001b[0m \u001b[1;33m=\u001b[0m \u001b[0mos\u001b[0m\u001b[1;33m.\u001b[0m\u001b[0mfspath\u001b[0m\u001b[1;33m(\u001b[0m\u001b[0mpath\u001b[0m\u001b[1;33m)\u001b[0m\u001b[1;33m\u001b[0m\u001b[1;33m\u001b[0m\u001b[0m\n\u001b[0m\u001b[0;32m    294\u001b[0m     \u001b[1;32mif\u001b[0m \u001b[0misinstance\u001b[0m\u001b[1;33m(\u001b[0m\u001b[0mpath\u001b[0m\u001b[1;33m,\u001b[0m \u001b[0mbytes\u001b[0m\u001b[1;33m)\u001b[0m\u001b[1;33m:\u001b[0m\u001b[1;33m\u001b[0m\u001b[1;33m\u001b[0m\u001b[0m\n\u001b[0;32m    295\u001b[0m         \u001b[0mtilde\u001b[0m \u001b[1;33m=\u001b[0m \u001b[1;34mb'~'\u001b[0m\u001b[1;33m\u001b[0m\u001b[1;33m\u001b[0m\u001b[0m\n",
      "\u001b[1;31mTypeError\u001b[0m: expected str, bytes or os.PathLike object, not NoneType"
     ]
    }
   ],
   "source": [
    "# download and normalize data === worldwide traffic\n",
    "df = utils.get_normalized_resource(resource_url=\"https://www.brat.ro/sati/export-rezultate/export/xls/site/c/all/period_type/day/period_filter/\"+ yesterday_dt_str +\"/category/all/editor/all/order_by/name/order/desc/\", file_path=\"data/\" + yesterday_dt_str + \".xls\", from_date=yesterday_dt, region_type='all')"
   ]
  },
  {
   "cell_type": "markdown",
   "metadata": {},
   "source": [
    "# <b style = \"font-size: 20px\">I. Worldwide traffic</b>"
   ]
  },
  {
   "cell_type": "markdown",
   "metadata": {},
   "source": [
    "## <p style=\"font-size: 17px\">1.1 Download data from brat.ro</p>"
   ]
  },
  {
   "cell_type": "code",
   "execution_count": 5,
   "metadata": {},
   "outputs": [],
   "source": [
    "URL = \"https://www.brat.ro/sati/export-rezultate/export/xls/site/c/all/period_type/day/period_filter/\"+ yesterday_dt_str +\"/category/all/editor/all/order_by/name/order/desc/\"\n",
    "file_path = \"./data/\" + yesterday_dt_str + '.xls' #data should be downloaded in data folder with the name of the current date\n",
    "\n",
    "# utils.download_resource(URL, file_path)"
   ]
  },
  {
   "cell_type": "markdown",
   "metadata": {},
   "source": [
    "## <p style=\"font-size: 17px\">1.2 Process data</p>"
   ]
  },
  {
   "cell_type": "code",
   "execution_count": 6,
   "metadata": {},
   "outputs": [
    {
     "name": "stdout",
     "output_type": "stream",
     "text": [
      "WARNING *** OLE2 inconsistency: SSCS size is 0 but SSAT size is non-zero\n"
     ]
    }
   ],
   "source": [
    "import pandas as pd\n",
    "\n",
    "df = pd.read_excel(file_path, engine=\"xlrd\")\n",
    "df = utils.normalize_df(df.copy(deep=True)) \n",
    "df[\"traffic_region\"] = \"all\" #column indicating that this traffic from all regions\n",
    "df[\"timestamp\"] = yesterday_dt #InfluxDB's \"id\", a datetime type value\n",
    "df.set_index(\"timestamp\", inplace = True)"
   ]
  },
  {
   "cell_type": "markdown",
   "metadata": {},
   "source": [
    "## <p style=\"font-size: 17px\">1.3 Send data to InfluxDB</p>"
   ]
  },
  {
   "cell_type": "code",
   "execution_count": 12,
   "metadata": {},
   "outputs": [
    {
     "ename": "NameError",
     "evalue": "name 'db_utils' is not defined",
     "output_type": "error",
     "traceback": [
      "\u001b[0;31m---------------------------------------------------------------------------\u001b[0m",
      "\u001b[0;31mNameError\u001b[0m                                 Traceback (most recent call last)",
      "Input \u001b[0;32mIn [12]\u001b[0m, in \u001b[0;36m<cell line: 3>\u001b[0;34m()\u001b[0m\n\u001b[1;32m      1\u001b[0m \u001b[38;5;28;01mimport\u001b[39;00m \u001b[38;5;21;01mimp\u001b[39;00m\n\u001b[0;32m----> 3\u001b[0m imp\u001b[38;5;241m.\u001b[39mreload(\u001b[43mdb_utils\u001b[49m)\n",
      "\u001b[0;31mNameError\u001b[0m: name 'db_utils' is not defined"
     ]
    }
   ],
   "source": [
    "import imp\n",
    "\n",
    "imp.reload(db_utils)"
   ]
  },
  {
   "cell_type": "code",
   "execution_count": null,
   "metadata": {},
   "outputs": [],
   "source": [
    "db_utils.write_data_to_db(client, df, measurement)"
   ]
  },
  {
   "cell_type": "markdown",
   "metadata": {},
   "source": [
    "# <b style = \"font-size: 20px\">II. Traffic exlusively from Romania</b>"
   ]
  },
  {
   "cell_type": "markdown",
   "metadata": {},
   "source": [
    "## <p style=\"font-size: 17px\">1.1 Download data from brat.ro</p>"
   ]
  },
  {
   "cell_type": "code",
   "execution_count": 10,
   "metadata": {},
   "outputs": [
    {
     "data": {
      "text/plain": [
       "'ERROR, file already exists'"
      ]
     },
     "execution_count": 10,
     "metadata": {},
     "output_type": "execute_result"
    }
   ],
   "source": [
    "URL_RO = \"https://www.brat.ro/sati/export-rezultate/export/xls/type/site-ro/c/custom/period_type/day/period_filter/\"+ yesterday_dt_str +\"/category/all/editor/all/order_by/name/order/asc/\"\n",
    "file_path_ro = \"./data/\" + yesterday_dt_str + '-ro.xls' #data should be downloaded in data folder with the name of the current date\n",
    "\n",
    "utils.download_resource(URL_RO, file_path_ro)"
   ]
  },
  {
   "cell_type": "markdown",
   "metadata": {},
   "source": [
    "## <p style=\"font-size: 17px\">1.2 Process data</p>"
   ]
  },
  {
   "cell_type": "code",
   "execution_count": 13,
   "metadata": {},
   "outputs": [
    {
     "name": "stdout",
     "output_type": "stream",
     "text": [
      "WARNING *** OLE2 inconsistency: SSCS size is 0 but SSAT size is non-zero\n"
     ]
    }
   ],
   "source": [
    "import pandas as pd\n",
    "\n",
    "df_ro = pd.read_excel(file_path_ro, engine=\"xlrd\")\n",
    "df_ro = utils.normalize_df(df_ro.copy(deep=True))"
   ]
  },
  {
   "cell_type": "markdown",
   "metadata": {},
   "source": [
    "## <p style=\"font-size: 17px\">1.3 Send data to InfluxDB</p>"
   ]
  },
  {
   "cell_type": "code",
   "execution_count": 14,
   "metadata": {},
   "outputs": [],
   "source": [
    "db_utils.write_data_to_db(client, df_ro, measurement)"
   ]
  },
  {
   "cell_type": "markdown",
   "metadata": {},
   "source": [
    "Download old datasets"
   ]
  },
  {
   "cell_type": "code",
   "execution_count": null,
   "metadata": {},
   "outputs": [],
   "source": [
    "# currently available datasets: until 4/4/2022\n",
    "\n",
    "import data_processing_utils as utils\n",
    "from datetime import datetime, timedelta\n",
    "\n",
    "d = 2\n",
    "\n",
    "yesterday_dt = datetime.today() - timedelta(days=d)\n",
    "yesterday_dt_str = str(yesterday_dt.year) + \"-\" + str(yesterday_dt.month) + \"-\" + str(yesterday_dt.day)\n",
    "yesterday_dt_str\n",
    "\n",
    "#1 download and normalize \n",
    "URL = \"https://www.brat.ro/sati/export-rezultate/export/xls/site/c/all/period_type/day/period_filter/\"+ yesterday_dt_str +\"/category/all/editor/all/order_by/name/order/desc/\"\n",
    "\n",
    "\n",
    "d+=1"
   ]
  }
 ],
 "metadata": {
  "interpreter": {
   "hash": "c7c39bcf9cd8cc73441d58d6c181cabb1eb0e3a7e3dd92a85af316cc14117159"
  },
  "kernelspec": {
   "display_name": "Python 3.10.0 64-bit",
   "language": "python",
   "name": "python3"
  },
  "language_info": {
   "codemirror_mode": {
    "name": "ipython",
    "version": 3
   },
   "file_extension": ".py",
   "mimetype": "text/x-python",
   "name": "python",
   "nbconvert_exporter": "python",
   "pygments_lexer": "ipython3",
   "version": "3.10.0"
  }
 },
 "nbformat": 4,
 "nbformat_minor": 4
}
