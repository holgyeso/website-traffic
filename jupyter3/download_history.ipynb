{
 "cells": [
  {
   "cell_type": "markdown",
   "metadata": {},
   "source": [
    "# <h1 style=\"font-size:24px\">Website traffic of Romanian media and advertising companies</h1>\n",
    "--- "
   ]
  },
  {
   "cell_type": "markdown",
   "metadata": {},
   "source": [
    "## **ABOUT THE DATA**\n",
    "[BRAT](https://www.brat.ro/ce-este-brat) is a non-profit organization of the media and advertising industry. Their aim is to support this industry by establishing common methods and standards on how to measure the performance indicators of media products. One of these KPIs is site traffic, that is measured in the [SATI](https://www.brat.ro/sati) project. The findings are published each day on SATI's webpage, in the [Traffic results](https://www.brat.ro/sati/rezultate/type/site/page/1/c/all) menu. They have the possibility to export the whole dataset, not only the filtered table that can be seen on their webpage. With Inspect the URL for the generated Excel file can be found out, and it can be scaped with Python's `requests` library.\n",
    "\n",
    "It is important to keep in mind, that site traffic data is available only for the day before the current date. Moreover, for those who are not a BRAT member, data can be accessed only for the last month.\n",
    "\n",
    "### **Data structure**\n",
    "Downloaded data contains the following columns: \n",
    "* Categorie: the site's media category\n",
    "* Site\n",
    "* Sitecode\n",
    "* Tip trafic: traffic type: desktop/laptop, mobile, mobile applications\n",
    "* Editor site\n",
    "* Contractor\n",
    "* Regie de publicitate\n",
    "* Afisari: Page Impression - a visitor displays a page on the site\n",
    "* Vizite: Visit - a series of one or more impressions as a result of a visitor's request. A visit ends when the period between 2 consecutive impressions is longer than 30 minutes\n",
    "* Clienti Unici: Unique user - a unique combination of IP address and other identifiers\n",
    "\n",
    "From these only the category, traffic type, Contractor, page impression, visit and unique users will be used."
   ]
  },
  {
   "cell_type": "markdown",
   "metadata": {},
   "source": [
    "## **ABOUT THE NOTEBOOK**\n",
    "This notebook is the main part of the project, where all methods are summarized and put together from downloading the data until the part where it is sent into InfluxDB. \n",
    "\n",
    "The data is scraped down in Excel format, so this can be imported directly into `pandas` - with the help of that the data processing part will be done. Fortunately, the data comes in a quite decent format, only the unneeded columns and empty rows should be deleted. Since it contains a total traffic row for all sites too, this row should have been eliminated too, as this is the sum of the trafic types. Lastly, because of InfluxDB's time series database nature, the dataframe's index should be of datetime type."
   ]
  },
  {
   "cell_type": "markdown",
   "metadata": {},
   "source": [
    "## **CODE**"
   ]
  },
  {
   "cell_type": "markdown",
   "metadata": {},
   "source": [
    "import all dependencies"
   ]
  },
  {
   "cell_type": "code",
   "execution_count": 1,
   "metadata": {},
   "outputs": [],
   "source": [
    "import data_processing_utils as utils #data download and normalization\n",
    "import db_utils #utils to get db connection and write to db \n",
    "from datetime import datetime, timedelta\n",
    "import os"
   ]
  },
  {
   "cell_type": "markdown",
   "metadata": {},
   "source": [
    "A database connection should be made. If you want to make another measurement, you should uncomment the code for the database creation part. If you have a measurement, named other than `site_traffic`, please change the `db_name` parameter of the `get_data_frame_client` function."
   ]
  },
  {
   "cell_type": "code",
   "execution_count": 2,
   "metadata": {},
   "outputs": [],
   "source": [
    "# from influxdb import DataFrameClient\n",
    "\n",
    "# user = 'root'\n",
    "# password = 'root'\n",
    "# host='influxdb'\n",
    "# port=8086\n",
    "# dbname='site_traffic'\n",
    "\n",
    "# client = DataFrameClient(host, port, user, password, dbname)\n",
    "\n",
    "# client.create_database(dbname)\n",
    "# client.create_retention_policy(dbname, '1000d', 1, default=True) #data will be kept only for 1000 days\n",
    "# # you should always check with client.query(\"show databases\") command if you have the made database\n",
    "\n",
    "client = db_utils.get_data_frame_client('influxdb', 'site_traffic')"
   ]
  },
  {
   "cell_type": "markdown",
   "metadata": {},
   "source": [
    "Data will be downloaded in the period [min_d, max_d]. So if you want to download data from 11th of May, 2022 until the current date, you should change the date in `max_d` to \"2022-05-11\" and `min_d` should be the date of yesterday (see above, data available only until the date before the current date)"
   ]
  },
  {
   "cell_type": "code",
   "execution_count": 7,
   "metadata": {},
   "outputs": [],
   "source": [
    "min_d = datetime.today() - timedelta(days=1) #datetime.strptime(\"2022-04-17\", \"%Y-%m-%d\")\n",
    "max_d = datetime.today()"
   ]
  },
  {
   "cell_type": "markdown",
   "metadata": {},
   "source": [
    "Run the cell below to download, normalize and send data to InluxDB.\n",
    "\n",
    "Obs: the measurement's name will be `traffic`. If you want to change this, please change the measurement arg of the `write_data_to_db` function"
   ]
  },
  {
   "cell_type": "code",
   "execution_count": 8,
   "metadata": {},
   "outputs": [
    {
     "name": "stdout",
     "output_type": "stream",
     "text": [
      "2022-5-17\n",
      "WARNING *** OLE2 inconsistency: SSCS size is 0 but SSAT size is non-zero\n"
     ]
    }
   ],
   "source": [
    "while min_d.date() < max_d.date():\n",
    "    d_str = min_d.strftime(\"%Y-%-m-%-d\")\n",
    "    print(d_str)\n",
    "    \n",
    "    if not os.path.exists(\"./data\"):\n",
    "        os.mkdir(\"./data\")\n",
    "    \n",
    "    # download and write to database the normalized df\n",
    "    df = utils.get_normalized_resource(resource_url=\"https://www.brat.ro/sati/export-rezultate/export/xls/type/site/c/all/period_type/day/period_filter/\"+ d_str +\"/category/all/editor/all/order_by/name/order/desc/\", file_path= \"./data/\" + d_str + \".xls\", from_date=min_d)\n",
    "    db_utils.write_data_to_db(client=client, data_df=df, measurement='traffic')\n",
    "\n",
    "    min_d = min_d + timedelta(days=1)\n"
   ]
  }
 ],
 "metadata": {
  "interpreter": {
   "hash": "c7c39bcf9cd8cc73441d58d6c181cabb1eb0e3a7e3dd92a85af316cc14117159"
  },
  "kernelspec": {
   "display_name": "Python 3 (ipykernel)",
   "language": "python",
   "name": "python3"
  },
  "language_info": {
   "codemirror_mode": {
    "name": "ipython",
    "version": 3
   },
   "file_extension": ".py",
   "mimetype": "text/x-python",
   "name": "python",
   "nbconvert_exporter": "python",
   "pygments_lexer": "ipython3",
   "version": "3.9.12"
  }
 },
 "nbformat": 4,
 "nbformat_minor": 4
}
